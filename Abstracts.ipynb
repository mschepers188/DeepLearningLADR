{
 "cells": [
  {
   "cell_type": "markdown",
   "id": "267bc6e0",
   "metadata": {},
   "source": [
    "# Data prepping"
   ]
  },
  {
   "cell_type": "markdown",
   "id": "c69b04e9",
   "metadata": {},
   "source": [
    "https://bioinf.nl/~davelangers/datasets/abstracts.zip"
   ]
  },
  {
   "cell_type": "code",
   "execution_count": 1,
   "id": "8811196d",
   "metadata": {},
   "outputs": [
    {
     "name": "stderr",
     "output_type": "stream",
     "text": [
      "2022-06-07 10:31:26.810947: W tensorflow/stream_executor/platform/default/dso_loader.cc:64] Could not load dynamic library 'libcudart.so.11.0'; dlerror: libcudart.so.11.0: cannot open shared object file: No such file or directory\n",
      "2022-06-07 10:31:26.810969: I tensorflow/stream_executor/cuda/cudart_stub.cc:29] Ignore above cudart dlerror if you do not have a GPU set up on your machine.\n"
     ]
    }
   ],
   "source": [
    "import matplotlib.pyplot as plt\n",
    "from tensorflow import keras"
   ]
  },
  {
   "cell_type": "code",
   "execution_count": 2,
   "id": "608b7022",
   "metadata": {},
   "outputs": [],
   "source": [
    "import abstracts\n",
    "?abstracts.load_data"
   ]
  },
  {
   "cell_type": "code",
   "execution_count": 3,
   "id": "49dc3498",
   "metadata": {},
   "outputs": [],
   "source": [
    "(x_train, y_train), (x_test, y_test) = abstracts.load_data(num_words=10000)"
   ]
  },
  {
   "cell_type": "code",
   "execution_count": 4,
   "id": "676e3a28",
   "metadata": {},
   "outputs": [
    {
     "data": {
      "text/plain": [
       "((3926,), dtype('O'))"
      ]
     },
     "execution_count": 4,
     "metadata": {},
     "output_type": "execute_result"
    }
   ],
   "source": [
    "x_train.shape, x_train.dtype"
   ]
  },
  {
   "cell_type": "code",
   "execution_count": 5,
   "id": "87395041",
   "metadata": {},
   "outputs": [
    {
     "data": {
      "text/plain": [
       "list"
      ]
     },
     "execution_count": 5,
     "metadata": {},
     "output_type": "execute_result"
    }
   ],
   "source": [
    "type(x_train[0])"
   ]
  },
  {
   "cell_type": "code",
   "execution_count": 6,
   "id": "aef2640b",
   "metadata": {},
   "outputs": [
    {
     "data": {
      "text/plain": [
       "'? reducing excessive ? tonic inhibition promotes functional recovery after stroke stroke is a leading cause of disability but no pharmacological therapy is currently available for promoting recovery the brain region adjacent to stroke ? ? ? critical for ? as it shows heightened ? allowing sensorimotor functions to ? from damaged areas thus understanding the neuronal properties constraining this plasticity is important for the development of new treatments here we show that after a stroke in mice tonic neuronal inhibition is increased in the ? zone this increased tonic inhibition is mediated by extrasynaptic gabaa receptors and is caused by an impairment in gaba γ-aminobutyric acid transporter ? ? function to counteract the heightened inhibition we administered in vivo a ? inverse agonist specific for ? extrasynaptic gabaa receptors at a delay after stroke this treatment produced an early and sustained recovery of motor function genetically lowering the number of α5 or ? gabaa receptors responsible for tonic inhibition also proved beneficial for recovery after stroke consistent with the therapeutic potential of ? extrasynaptic gabaa receptor function together our results identify new pharmacological targets and provide the rationale for a novel strategy to promote recovery after stroke and possibly other brain injuries'"
      ]
     },
     "execution_count": 6,
     "metadata": {},
     "output_type": "execute_result"
    }
   ],
   "source": [
    "word_index = abstracts.get_word_index()\n",
    "reverse_word_index = dict([(value, key) for (key, value) in word_index.items()])\n",
    "decoded_review = ' '.join([reverse_word_index.get(i -3, '?') for i in x_train[0]])\n",
    "decoded_review"
   ]
  },
  {
   "cell_type": "code",
   "execution_count": 7,
   "id": "297b71e9",
   "metadata": {},
   "outputs": [],
   "source": [
    "import numpy as np\n",
    "\n",
    "def vectorize(x_lists):\n",
    "    x_new = np.zeros((len(x_lists), 10000))  # 10.000 words\n",
    "    for row, word_list in enumerate(x_lists):\n",
    "        for word in word_list:\n",
    "            x_new[row, word] = 1.0\n",
    "    return x_new\n",
    "\n",
    "x_train = vectorize(x_train)\n",
    "x_test = vectorize(x_test)"
   ]
  },
  {
   "cell_type": "code",
   "execution_count": 8,
   "id": "9cb11041",
   "metadata": {},
   "outputs": [
    {
     "data": {
      "text/plain": [
       "((982,), dtype('int64'))"
      ]
     },
     "execution_count": 8,
     "metadata": {},
     "output_type": "execute_result"
    }
   ],
   "source": [
    "y_test.shape, y_test.dtype"
   ]
  },
  {
   "cell_type": "code",
   "execution_count": 9,
   "id": "225deb3d",
   "metadata": {},
   "outputs": [
    {
     "data": {
      "text/plain": [
       "1"
      ]
     },
     "execution_count": 9,
     "metadata": {},
     "output_type": "execute_result"
    }
   ],
   "source": [
    "y_test[0]"
   ]
  },
  {
   "cell_type": "code",
   "execution_count": 10,
   "id": "e9b358f5",
   "metadata": {},
   "outputs": [],
   "source": [
    "y_train = y_train.astype(float)\n",
    "y_test = y_test.astype(float)"
   ]
  },
  {
   "cell_type": "code",
   "execution_count": 11,
   "id": "7941d7fd",
   "metadata": {},
   "outputs": [
    {
     "name": "stdout",
     "output_type": "stream",
     "text": [
      "Model: \"sequential\"\n",
      "_________________________________________________________________\n",
      " Layer (type)                Output Shape              Param #   \n",
      "=================================================================\n",
      " Hidden_1 (Dense)            (None, 64)                640064    \n",
      "                                                                 \n",
      " Hidden_2 (Dense)            (None, 16)                1040      \n",
      "                                                                 \n",
      " Output (Dense)              (None, 1)                 17        \n",
      "                                                                 \n",
      "=================================================================\n",
      "Total params: 641,121\n",
      "Trainable params: 641,121\n",
      "Non-trainable params: 0\n",
      "_________________________________________________________________\n"
     ]
    },
    {
     "name": "stderr",
     "output_type": "stream",
     "text": [
      "2022-06-07 10:31:37.832550: W tensorflow/stream_executor/platform/default/dso_loader.cc:64] Could not load dynamic library 'libcuda.so.1'; dlerror: libcuda.so.1: cannot open shared object file: No such file or directory\n",
      "2022-06-07 10:31:37.832583: W tensorflow/stream_executor/cuda/cuda_driver.cc:269] failed call to cuInit: UNKNOWN ERROR (303)\n",
      "2022-06-07 10:31:37.832602: I tensorflow/stream_executor/cuda/cuda_diagnostics.cc:156] kernel driver does not appear to be running on this host (nuc417.bin.bioinf.nl): /proc/driver/nvidia/version does not exist\n",
      "2022-06-07 10:31:37.832782: I tensorflow/core/platform/cpu_feature_guard.cc:193] This TensorFlow binary is optimized with oneAPI Deep Neural Network Library (oneDNN) to use the following CPU instructions in performance-critical operations:  AVX2 FMA\n",
      "To enable them in other operations, rebuild TensorFlow with the appropriate compiler flags.\n"
     ]
    }
   ],
   "source": [
    "# create model\n",
    "neural = keras.models.Sequential()\n",
    "\n",
    "neural.add(keras.layers.InputLayer(input_shape=(10000,), name='Input'))  # use 10, to add as tuple, we have 10 samples\n",
    "neural.add(keras.layers.Dense(units=64, activation='tanh', name='Hidden_1'))\n",
    "neural.add(keras.layers.Dense(units=16, activation='tanh', name='Hidden_2'))\n",
    "neural.add(keras.layers.Dense(units=1, activation='sigmoid', name='Output'))\n",
    "\n",
    "neural.summary()"
   ]
  },
  {
   "cell_type": "code",
   "execution_count": 12,
   "id": "7e21b7c9",
   "metadata": {},
   "outputs": [
    {
     "name": "stdout",
     "output_type": "stream",
     "text": [
      "Epoch 1/8\n",
      "79/79 [==============================] - 1s 7ms/step - loss: 0.6412 - binary_accuracy: 0.6791 - auc: 0.7648 - val_loss: 0.5908 - val_binary_accuracy: 0.8279 - val_auc: 0.8946\n",
      "Epoch 2/8\n",
      "79/79 [==============================] - 0s 5ms/step - loss: 0.5395 - binary_accuracy: 0.8574 - auc: 0.9334 - val_loss: 0.5018 - val_binary_accuracy: 0.8768 - val_auc: 0.9387\n",
      "Epoch 3/8\n",
      "79/79 [==============================] - 0s 4ms/step - loss: 0.4510 - binary_accuracy: 0.8953 - auc: 0.9541 - val_loss: 0.4271 - val_binary_accuracy: 0.8849 - val_auc: 0.9499\n",
      "Epoch 4/8\n",
      "79/79 [==============================] - 0s 4ms/step - loss: 0.3787 - binary_accuracy: 0.9063 - auc: 0.9624 - val_loss: 0.3684 - val_binary_accuracy: 0.8982 - val_auc: 0.9540\n",
      "Epoch 5/8\n",
      "79/79 [==============================] - 0s 4ms/step - loss: 0.3242 - binary_accuracy: 0.9126 - auc: 0.9668 - val_loss: 0.3272 - val_binary_accuracy: 0.9073 - val_auc: 0.9565\n",
      "Epoch 6/8\n",
      "79/79 [==============================] - 0s 4ms/step - loss: 0.2852 - binary_accuracy: 0.9193 - auc: 0.9702 - val_loss: 0.2991 - val_binary_accuracy: 0.9094 - val_auc: 0.9586\n",
      "Epoch 7/8\n",
      "79/79 [==============================] - 0s 4ms/step - loss: 0.2552 - binary_accuracy: 0.9289 - auc: 0.9734 - val_loss: 0.2790 - val_binary_accuracy: 0.9084 - val_auc: 0.9602\n",
      "Epoch 8/8\n",
      "79/79 [==============================] - 0s 4ms/step - loss: 0.2323 - binary_accuracy: 0.9325 - auc: 0.9759 - val_loss: 0.2694 - val_binary_accuracy: 0.9022 - val_auc: 0.9616\n"
     ]
    }
   ],
   "source": [
    "neural.compile(\n",
    "    loss=keras.losses.BinaryCrossentropy(),\n",
    "    optimizer=keras.optimizers.SGD(),\n",
    "    metrics=[keras.metrics.BinaryAccuracy(), keras.metrics.AUC()]\n",
    ")\n",
    "history = neural.fit(\n",
    "    x=x_train,\n",
    "    y=y_train,\n",
    "    epochs=8,\n",
    "    batch_size=50,\n",
    "    verbose=1,\n",
    "    validation_data=(x_test, y_test)\n",
    ")"
   ]
  },
  {
   "cell_type": "code",
   "execution_count": 13,
   "id": "70c5599b",
   "metadata": {},
   "outputs": [
    {
     "data": {
      "text/plain": [
       "dict_keys(['loss', 'binary_accuracy', 'auc', 'val_loss', 'val_binary_accuracy', 'val_auc'])"
      ]
     },
     "execution_count": 13,
     "metadata": {},
     "output_type": "execute_result"
    }
   ],
   "source": [
    "history.history.keys()"
   ]
  },
  {
   "cell_type": "code",
   "execution_count": 14,
   "id": "5ebd9fdc",
   "metadata": {},
   "outputs": [
    {
     "data": {
      "image/png": "[encoded data removed]",
      "text/plain": [
       "<Figure size 432x288 with 1 Axes>"
      ]
     },
     "metadata": {
      "needs_background": "light"
     },
     "output_type": "display_data"
    }
   ],
   "source": [
    "plt.plot(history.history['loss'], 'go', label='Training loss')\n",
    "plt.plot(history.history['val_loss'], 'g-', label='Validation loss')\n",
    "plt.xlabel('Epochs')\n",
    "plt.ylabel('Loss')\n",
    "plt.legend()\n",
    "plt.show()"
   ]
  },
  {
   "cell_type": "markdown",
   "id": "06a12551",
   "metadata": {},
   "source": [
    "### Cross validation methods\n",
    "\n",
    "* Separate test and train data\n",
    "* Holdout (split data)\n",
    "* Repeated holdout (Repeat and shuffle)\n",
    "* k-fold Cross validation\n",
    "* Leave one out\n"
   ]
  },
  {
   "cell_type": "code",
   "execution_count": 17,
   "id": "7529ad47",
   "metadata": {},
   "outputs": [],
   "source": [
    "from sklearn.metrics import accuracy_score, balanced_accuracy_score, roc_auc_score"
   ]
  },
  {
   "cell_type": "code",
   "execution_count": 20,
   "id": "8dbe9206",
   "metadata": {},
   "outputs": [
    {
     "name": "stdout",
     "output_type": "stream",
     "text": [
      "31/31 [==============================] - 0s 2ms/step\n"
     ]
    }
   ],
   "source": [
    "yhat_test = neural.predict(x_test)\n",
    "label_test = np.round(yhat_test)"
   ]
  },
  {
   "cell_type": "code",
   "execution_count": 21,
   "id": "ba6d8703",
   "metadata": {},
   "outputs": [
    {
     "name": "stdout",
     "output_type": "stream",
     "text": [
      "Acc: 0.902\n",
      "bAcc: 0.903\n",
      "AUC: 0.962\n"
     ]
    }
   ],
   "source": [
    "print(f'Acc: {accuracy_score(y_test, label_test):.3}')\n",
    "print(f'bAcc: {balanced_accuracy_score(y_test, label_test):.3}')\n",
    "print(f'AUC: {roc_auc_score(y_test, yhat_test):.3}')"
   ]
  },
  {
   "cell_type": "code",
   "execution_count": 23,
   "id": "818ea150",
   "metadata": {},
   "outputs": [
    {
     "data": {
      "text/plain": [
       "array([[420,  37],\n",
       "       [ 59, 466]])"
      ]
     },
     "execution_count": 23,
     "metadata": {},
     "output_type": "execute_result"
    }
   ],
   "source": [
    "from sklearn.metrics import confusion_matrix\n",
    "\n",
    "conmat = confusion_matrix(y_test, label_test)\n",
    "conmat"
   ]
  },
  {
   "cell_type": "code",
   "execution_count": 33,
   "id": "25c4d4eb",
   "metadata": {},
   "outputs": [
    {
     "data": {
      "image/png": "[encoded data removed]",
      "text/plain": [
       "<Figure size 720x720 with 1 Axes>"
      ]
     },
     "metadata": {
      "needs_background": "light"
     },
     "output_type": "display_data"
    }
   ],
   "source": [
    "from sklearn.metrics import roc_curve\n",
    "\n",
    "fpr, tpr, _ = roc_curve(y_test, yhat_test)\n",
    "\n",
    "fig, ax = plt.subplots(figsize=(10, 10))\n",
    "plt.plot(fpr, tpr)\n",
    "plt.title('Receive Operating Characteristic')\n",
    "plt.xlabel('False postive rate')\n",
    "plt.ylabel('True postive rate')\n",
    "plt.grid(True)\n",
    "plt.show()"
   ]
  },
  {
   "cell_type": "code",
   "execution_count": 15,
   "id": "da350a85",
   "metadata": {},
   "outputs": [
    {
     "name": "stdout",
     "output_type": "stream",
     "text": [
      "31/31 [==============================] - 0s 2ms/step - loss: 0.2694 - binary_accuracy: 0.9022 - auc: 0.9616\n"
     ]
    },
    {
     "data": {
      "text/plain": [
       "[0.269400030374527, 0.9022403359413147, 0.9615525007247925]"
      ]
     },
     "execution_count": 15,
     "metadata": {},
     "output_type": "execute_result"
    }
   ],
   "source": [
    "neural.evaluate(x_test, y_test)"
   ]
  },
  {
   "cell_type": "code",
   "execution_count": 16,
   "id": "2770e601",
   "metadata": {},
   "outputs": [
    {
     "name": "stdout",
     "output_type": "stream",
     "text": [
      "31/31 [==============================] - 0s 2ms/step\n"
     ]
    }
   ],
   "source": [
    "yhat = neural.predict(x_test)"
   ]
  }
 ],
 "metadata": {
  "kernelspec": {
   "display_name": "Python 3 (ipykernel)",
   "language": "python",
   "name": "python3"
  },
  "language_info": {
   "codemirror_mode": {
    "name": "ipython",
    "version": 3
   },
   "file_extension": ".py",
   "mimetype": "text/x-python",
   "name": "python",
   "nbconvert_exporter": "python",
   "pygments_lexer": "ipython3",
   "version": "3.8.12"
  }
 },
 "nbformat": 4,
 "nbformat_minor": 5
}
