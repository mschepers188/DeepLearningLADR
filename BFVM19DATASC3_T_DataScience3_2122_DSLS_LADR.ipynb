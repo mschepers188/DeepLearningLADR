{
 "cells": [
  {
   "cell_type": "markdown",
   "metadata": {},
   "source": [
    "<img src=\"https://static1.squarespace.com/static/609509792278787105a2228b/t/60b5fbfad7e69c46077230a9/1622539258496/Hanze_Cirkel.png\" style=\"float:right; padding:10px;\" width=\"15%\" height=\"15%\" />\n",
    "\n",
    "# Data Science 3 (prediction)\n",
    "\n",
    "## Final assignment BFVM19DATASC3 - Deep Learning\n",
    "\n",
    "### 2021-2022 - 1st opportunity, deadline Fri. 24 Jun 2022, 24:00\n",
    "\n",
    "For your final assignment, you will use `tensorflow.keras` in python to develop a Deep Learning model that performs supervised learning.\n",
    "\n",
    "<img src=\"https://miro.medium.com/max/1200/0*a6XSwHsfvz_oWSSJ.jpg\" width=\"20%\" height=\"20%\" />\n",
    "\n",
    "This is an *individual* assignment: discussing together and sharing ideas with peers is encouraged, working together and sharing code is not acceptable. The performance of your model compared to other possible solutions (e.g. more sophisticated models found elsewhere) is of secondary importance compared to your ability to show, motivate and defend your *own* chosen approach.\n",
    "\n",
    "<div class=\"alert alert-warning\">Note: Sufficiently document your notebook using text and code such that a peer would be able to run the analysis identically. Feel free to add as many cells (code and/or markdown) as required.</div>"
   ]
  },
  {
   "cell_type": "code",
   "execution_count": null,
   "metadata": {},
   "outputs": [],
   "source": [
    "# DO NOT MODIFY THIS CODE CELL\n",
    "from time import process_time\n",
    "starttime = process_time()"
   ]
  },
  {
   "cell_type": "markdown",
   "metadata": {},
   "source": [
    "### Dataset\n",
    "\n",
    "[Kaggle](https://www.kaggle.com/datasets) is an online resource that contains numerous datasets that are suitable for machine learning.\n",
    "\n",
    "<a href=\"https://www.kaggle.com/datasets\" target=\"_blank\"><img src=\"https://upload.wikimedia.org/wikipedia/commons/7/7c/Kaggle_logo.png\" width=\"10%\" height=\"10%\" /></a>\n",
    "\n",
    "Select a dataset of your own choice that satisfies the following criteria:\n",
    "\n",
    "1.\tinstance data consist of (grayscale or color) images;\n",
    "\n",
    "2.\tinstance labels are nominal or numeric for classification or regression;\n",
    "\n",
    "3.\tthe problem context relates to life sciences (e.g. medicine, agriculture, nature etc.).\n",
    "\n",
    "Try to get an idea of the quality and complexity of the dataset by browsing it. Sometimes, the dataset is already accompanied by a preformulated task or goal. However, it is acceptable to choose your own (different) objective: for instance, you might select only particular subsets of data, or reduce the number of distinct labels, or convert a regression or segmentation problem into a classification problem (or vice versa). Your target goal should not be trivial, but estimated to be feasible; if in doubt, consult your [lecturer](mailto:d.r.m.langers@pl.hanze.nl).\n",
    "\n",
    "<div class=\"alert alert-warning\">Note: Kaggle allows dataset search results to be ranked by votes or by usability. When browsing through a dataset of your interest, useful \"Similar Datasets\" are listed at the bottom of each dataset's Data page.</div>\n",
    "\n",
    "Some candidate datasets to serve as starting points (in alphabetical order; feel free to select a dataset that is not in this list):\n",
    "\n",
    "*\t[African Wildlife](https://www.kaggle.com/datasets/biancaferreira/african-wildlife)\n",
    "*\t[Animal Faces](https://www.kaggle.com/datasets/andrewmvd/animal-faces)\n",
    "*\t[Animal Image Dataset (90 Different Animals)](https://www.kaggle.com/datasets/iamsouravbanerjee/animal-image-dataset-90-different-animals)\n",
    "*\t[Animals-10](https://www.kaggle.com/datasets/alessiocorrado99/animals10)\n",
    "*\t[ASL Alphabet](https://www.kaggle.com/datasets/grassknoted/asl-alphabet)\n",
    "*\t[Birds 400 Species image classification](https://www.kaggle.com/datasets/gpiosenka/100-bird-species)\n",
    "*\t[Blood Cell Images](https://www.kaggle.com/datasets/paultimothymooney/blood-cells)\n",
    "*\t[Body Parts X-Ray Images in PNG](https://www.kaggle.com/datasets/ibombonato/xray-body-images-in-png-unifesp-competion)\n",
    "*\t[Bone Marrow Cell Classification](https://www.kaggle.com/datasets/andrewmvd/bone-marrow-cell-classification)\n",
    "*\t[BreaKHis 400X](https://www.kaggle.com/datasets/forderation/breakhis-400x)\n",
    "*\t[Breast Histopathology Images](https://www.kaggle.com/datasets/paultimothymooney/breast-histopathology-images)\n",
    "*\t[Butterfly Image Classification 75 species](https://www.kaggle.com/datasets/gpiosenka/butterfly-images40-species)\n",
    "*\t[Cat Dataset](https://www.kaggle.com/datasets/crawford/cat-dataset)\n",
    "*\t[Chest X-Ray Images](https://www.kaggle.com/datasets/paulti/chest-xray-images)\n",
    "*\t[COVID-19 Radiography Database](https://www.kaggle.com/datasets/tawsifurrahman/covid19-radiography-database)\n",
    "*\t[COVID CXR Image Dataset (Research)](https://www.kaggle.com/datasets/sid321axn/covid-cxr-image-dataset-research)\n",
    "*\t[Face Mask Detection](https://www.kaggle.com/datasets/vijaykumar1799/face-mask-detection)\n",
    "*\t[Face Mask Usage](https://www.kaggle.com/datasets/jamesnogra/face-mask-usage)\n",
    "*\t[Female and male eyes](https://www.kaggle.com/datasets/pavelbiz/eyes-rtte)\n",
    "*\t[Flowers recognition](https://www.kaggle.com/datasets/alxmamaev/flowers-recognition)\n",
    "*\t[Food-11 image dataset](https://www.kaggle.com/datasets/trolukovich/food11-image-dataset)\n",
    "*\t[Fruits 360](https://www.kaggle.com/datasets/moltean/fruits)\n",
    "*\t[Fruits and Vegetables Image Recognition Dataset](https://www.kaggle.com/datasets/kritikseth/fruit-and-vegetable-image-recognition)\n",
    "*\t[Good Guys-Bad Guys Image Data Set](https://www.kaggle.com/datasets/gpiosenka/good-guysbad-guys-image-data-set)\n",
    "*\t[Mammals classification](https://www.kaggle.com/datasets/anirudhg15/mammals-classification)\n",
    "*\t[Medical MNIST](https://www.kaggle.com/datasets/andrewmvd/medical-mnist)\n",
    "*\t[Multi-domain Human Face Classification Dataset](https://www.kaggle.com/datasets/pawankumarsahu/multidomain-human-face-classification-dataset)\n",
    "*\t[Ocular Disease Recognition](https://www.kaggle.com/datasets/andrewmvd/ocular-disease-recognition-odir5k)\n",
    "*\t[Parkinson's Drawings](https://www.kaggle.com/datasets/kmader/parkinsons-drawings)\n",
    "*\t[Pediatric Pneumonia Chest X-ray](https://www.kaggle.com/datasets/andrewmvd/pediatric-pneumonia-chest-xray)\n",
    "*\t[Pneumonia X-Ray Images](https://www.kaggle.com/datasets/pcbreviglieri/pneumonia-xray-images)\n",
    "*\t[Pneumothorax Binary Classification task](https://www.kaggle.com/datasets/volodymyrgavrysh/pneumothorax-binary-classification-task)\n",
    "*\t[Recognize Animals](https://www.kaggle.com/datasets/pratik2901/animal-dataset)\n",
    "*\t[Retinal Disease Classification](https://www.kaggle.com/datasets/andrewmvd/retinal-disease-classification)\n",
    "*\t[Rice Image Dataset](https://www.kaggle.com/datasets/muratkokludataset/rice-image-dataset)\n",
    "*\t[Rice Leafs](https://www.kaggle.com/datasets/shayanriyaz/riceleafs)\n",
    "*\t[RSNA Bone Age](https://www.kaggle.com/datasets/kmader/rsna-bone-age)\n",
    "*\t[Sign Language MNIST](https://www.kaggle.com/datasets/datamunge/sign-language-mnist)\n",
    "*\t[Skin Lesion Images for Melanoma Classification](https://www.kaggle.com/datasets/andrewmvd/isic-2019)\n",
    "*\t[STL-10 Image Recognition Dataset](https://www.kaggle.com/datasets/jessicali9530/stl10)\n",
    "*\t[Tuberculosis (TB) Chest X-ray Database](https://www.kaggle.com/datasets/tawsifurrahman/tuberculosis-tb-chest-xray-dataset)\n",
    "*\t[V2 Plant Seedlings Dataset](https://www.kaggle.com/datasets/vbookshelf/v2-plant-seedlings-dataset)\n",
    "\n",
    "Indicate below in your own words what problem you will be solving. Document your chosen dataset in the form of the corresponding URL. (Don't forget to fill the [reservation form](https://hanzenl.sharepoint.com/:x:/r/sites/DSLSforstudentscohort2021-2022/Gedeelde%20documenten/discussion%20forum%20data%20science/BFVM19DATASC3_T_DataScience3_2122_DSLS_LADR_OralExamSchedule.xlsx?d=w45fb37567f574c2f8f786dede0928ba7&csf=1&web=1&e=FmW2Lt) for the oral review with this URL as well!)\n",
    "\n",
    "<div class=\"alert alert-warning\">Note: The number of students working on one and the same dataset may not exceed 3, so register your choice on time!</div>"
   ]
  },
  {
   "cell_type": "code",
   "execution_count": null,
   "metadata": {},
   "outputs": [],
   "source": [
    "# [FICTITIOUS EXAMPLE:] I will develop a model that can \"lip-read\"\n",
    "# 15 different sounding English vowels from square color photos of\n",
    "# a male or female person's mouth.\n",
    "\n",
    "# https://www.kaggle.com/datasets/contributor/datasetname"
   ]
  },
  {
   "cell_type": "markdown",
   "metadata": {},
   "source": [
    "### Exploration & preprocessing\n",
    "\n",
    "Investigate the structure and contents of the dataset. Report the number of instances (images) and attributes (features) and describe the labels. Visualize a select number of instances and plot informative characteristics regarding data shape or statistical distribution in the form of text, tables, and/or figures. Perform any types of data exploration and preprocessing that are required or that you deem relevant.\n",
    "\n",
    "*\tAll \"manual\" data preprocessing can be documented in your notebook as text or comments.<br />For instance, you may reorganize the file/folder structure. If the data contain a very large number of classes, you may select a smaller number of classes or join data into more general classes.\n",
    "\n",
    "*\tAll \"automated\" data preprocessing can be documented in your notebook as code.<br />For instance, you may have to read labels from csv-files, attributes may need to be deleted or transformed, invalid values imputed or outliers removed, data may need to be reshaped or resized, or split for training, validation, and/or testing.\n",
    "\n",
    "<div class=\"alert alert-warning\">Note: Kaggle often subdivides data into separate train/validation/test data, but you are *not* limited to this predefined split: join all labeled data and apply your own cross-validation strategy, if necessary. (Some test data may lack labels; you can ignore such unlabeled data for the purpose of this assignment.)</div>"
   ]
  },
  {
   "cell_type": "code",
   "execution_count": null,
   "metadata": {},
   "outputs": [],
   "source": []
  },
  {
   "cell_type": "markdown",
   "metadata": {},
   "source": [
    "### Baseline model\n",
    "\n",
    "Fit and evaluate one or two classical (i.e. \"not deep\") supervised machine learning methods that are most suitable to serve as a reference to assess a baseline performance. Briefly motivate your choice(s)."
   ]
  },
  {
   "cell_type": "code",
   "execution_count": null,
   "metadata": {},
   "outputs": [],
   "source": []
  },
  {
   "cell_type": "markdown",
   "metadata": {},
   "source": [
    "### Fully-connected neural network model\n",
    "\n",
    "Design a fully-connected neural network that is able to perform the chosen classification/regression task. Properly motivate your design choices, or determine suitable values for model hyperparameters. Explain in particular how you decided on or arrived at: the depth of the model and the width of the various layers, the employed activation and loss functions, the batch size and number of epochs, and the employed optimizer. Show the model layout summary, train it on the available data, and reliably evaluate its performance. Determine whether in your opinion the model is over- and/or underfitting, and critically comment on how well your final model does in comparison to the baseline model(s), or potentially other model configurations that you tried. Reflect on potential further ways to improve the model that you did not have the time or opportunity to explore."
   ]
  },
  {
   "cell_type": "code",
   "execution_count": null,
   "metadata": {},
   "outputs": [],
   "source": []
  },
  {
   "cell_type": "markdown",
   "metadata": {},
   "source": [
    "### Regularized convolutional neural network model\n",
    "\n",
    "Design a convolutional neural network that includes multiple forms of regularization and that is able to perform the required task. The number of trainable model parameters should be of the same order of magnitude (i.e. not more than a factor 10 different) as that from your previous fully-connected neural network. Again, explain your design choices that may now also include e.g. kernel size, padding, stride, and use of max-pooling, show the model layout, train it on the available data, evaluate its performance, assess any over- or underfitting, critically comment on how well your final model does in comparison to the baseline model(s) and the fully-connected neural network, or other model configurations that you tried, and reflect on potential further improvements that you did not explore."
   ]
  },
  {
   "cell_type": "code",
   "execution_count": null,
   "metadata": {},
   "outputs": [],
   "source": []
  },
  {
   "cell_type": "markdown",
   "metadata": {},
   "source": [
    "### Submission\n",
    "\n",
    "1. If you have not registered for the oral review yet, pick a slot and register your dataset (see the [reservation form](https://hanzenl.sharepoint.com/:x:/r/sites/DSLSforstudentscohort2021-2022/Gedeelde%20documenten/discussion%20forum%20data%20science/BFVM19DATASC3_T_DataScience3_2122_DSLS_LADR_OralExamSchedule.xlsx?d=w45fb37567f574c2f8f786dede0928ba7&csf=1&web=1&e=FmW2Lt));\n",
    "\n",
    "2. Evaluate this notebook and check that all cells run without errors (*Kernel > Restart & Run All*);\n",
    "\n",
    "3. Export this notebook as an `html`-file (*File > Download as > HTML (.html)*);\n",
    "\n",
    "4. Save this notebook as an `ipynb`-file (*File > Save and Checkpoint*);\n",
    "\n",
    "5. Compress both files into a single archive with your name and student number (e.g. `Jane_Doe_123456.zip`);\n",
    "\n",
    "6. Submit your zip-file ***before* Saturday 25 Jun 2022** (see [BlackBoard](https://blackboard.hanze.nl/webapps/assignment/uploadAssignment?content_id=_5934849_1&course_id=_352597_1)).\n",
    "\n",
    "<div class=\"alert alert-warning\">Note: upload the correct definitive versions of your files; one single submission is possible and submitted work is final!</div>"
   ]
  },
  {
   "cell_type": "code",
   "execution_count": null,
   "metadata": {},
   "outputs": [],
   "source": [
    "# DO NOT MODIFY THIS CODE CELL\n",
    "from platform import uname, platform\n",
    "print(f'Elapsed time equals {(process_time() - starttime) / 60.0:.1f} minutes on host {uname().node} ({platform()}).')"
   ]
  },
  {
   "cell_type": "markdown",
   "metadata": {},
   "source": [
    "### Grading rubric\n",
    "\n",
    "Four your information, assessment will comprise three parts:\n",
    "\n",
    "1. *Coding*, refering to the python implementation of the data processing and modeling (mostly in your notebook);\n",
    "\n",
    "2. *Design*, refering to the suitability of the chosen processing steps and models (mostly in your notebook);\n",
    "\n",
    "3. *Theory*, refering to your shown understanding of ideas and concepts (mostly in your oral review).\n",
    "\n",
    "All three parts need to score at least a passing grade. The final grade is the average grade if all parts pass, or the lowest grade if any part fails.\n",
    "\n",
    "The following descriptions may serve as guides; applicability and weighting of subitems may depend on the problem and solution.\n",
    "\n",
    "| | &#x1F534; <font color=\"#cc0033\">*Fail* $(\\lesssim 4)$</font> | &#x1F7E0; <font color=\"#cc9900\">*Pass* $(\\approx 6)$</font> | &#x1F7E2; <font color=\"#009900\">*Good* $(\\gtrsim 8)$</font> |\n",
    "| :- | :- | :- | :- |\n",
    "| **Coding** | code is valid but not very clear | code is suitable and understandable | code is most appropriate and easily readable |\n",
    "| | code is inefficient or convoluted | code is verbose or efficiency is improvable | code is efficient and succint |\n",
    "| | notebook contains occasional comments | notebook is self-explanatory | notebook is unambiguously annotated |\n",
    "| | analysis pipeline is somewhat reproducible | analysis pipeline is mostly reproducible | analysis pipeline is identically reproducible |\n",
    "| | data organisation is untidy | data organisation is appropriate | data is excellently organised |\n",
    "| | some models are set up incorrectly | adequate models are instantiated | properly tailored models are created |\n",
    "| | models are badly compiled, trained or evaluated | models are suboptimally compiled, trained or evaluated | models are optimally compiled, trained and evaluated |\n",
    "| | results are presented unclearly or incompletely | results are intelligible but unappealing | results are presented clearly and attractively |\n",
    "| **Design** | chosen problem is trivial | chosen problem is straightforward | chosen problem is challenging |\n",
    "| | data exploration is incomplete or inapplicable | data exploration is marginal or partly uninformative | data exploration is comprehensive and relevant |\n",
    "| | some preprocessing is performed | data preparation is valid but arguably incomplete | data preparation is correct and thorough |\n",
    "| | model hyperparameters are doubtful | model hyperparameters are defensible | model hyperparameters are optimal |\n",
    "| | model design is poorly motivated | model design is reasonably motivated but debatable | model design is convincingly argued |\n",
    "| | substantial under-/overfitting is apparent | minor under-/overfitting may occur | no evidence for under-/overfitting |\n",
    "| | models are evaluated poorly or incorrectly | models are evaluated suitably but incompletely | model evaluation is reliable and thorough |\n",
    "| | approach is generic and uniform | approach is specific and customized | approach is distinctive and creative |\n",
    "| **Theory** | code function is misapprehended | code function is correctly verbalized | code function is well explained |\n",
    "| | occasional use of technical wording | regular use of correct terminology | routine use of appropriate jargon |\n",
    "| | techniques are vaguely understood | techniques are generally understood | techniques are proficiently understood |\n",
    "| | knowledge limited to core ideas only | knowledge encompasses covered material fully | knowledge extends beyond material covered in class |\n",
    "| | model design process remains unclear | model development is articulated | model creation is exhaustively explained |\n",
    "| | model performance is uncritically assessed | model performance is observantly appraised | models are critically scrutinized |\n",
    "| | passive conversation with deflecting answers | interactive but uninspiring discussion | engaging on-topic dialogue with original input |\n",
    "| | ability to uncertainly speculate | ability to plausibly argue | ability to intelligently reason |"
   ]
  },
  {
   "cell_type": "markdown",
   "metadata": {},
   "source": [
    "<div class=\"alert alert-success\">Success!</div>\n",
    "\n",
    "***\n",
    "\n",
    "<small>&copy; 2022, Dave R.M. Langers, [d.r.m.langers@pl.hanze.nl](mailto:d.r.m.langers@pl.hanze.nl)</small>"
   ]
  }
 ],
 "metadata": {
  "kernelspec": {
   "display_name": "Python 3 (ipykernel)",
   "language": "python",
   "name": "python3"
  },
  "language_info": {
   "codemirror_mode": {
    "name": "ipython",
    "version": 3
   },
   "file_extension": ".py",
   "mimetype": "text/x-python",
   "name": "python",
   "nbconvert_exporter": "python",
   "pygments_lexer": "ipython3",
   "version": "3.8.12"
  }
 },
 "nbformat": 4,
 "nbformat_minor": 2
}
