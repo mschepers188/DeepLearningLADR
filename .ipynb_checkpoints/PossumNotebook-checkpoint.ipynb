{
 "cells": [
  {
   "cell_type": "code",
   "execution_count": 1,
   "id": "8ed7afb4",
   "metadata": {},
   "outputs": [
    {
     "name": "stderr",
     "output_type": "stream",
     "text": [
      "2022-06-07 08:38:48.019372: W tensorflow/stream_executor/platform/default/dso_loader.cc:64] Could not load dynamic library 'libcudart.so.11.0'; dlerror: libcudart.so.11.0: cannot open shared object file: No such file or directory\n",
      "2022-06-07 08:38:48.019392: I tensorflow/stream_executor/cuda/cudart_stub.cc:29] Ignore above cudart dlerror if you do not have a GPU set up on your machine.\n"
     ]
    }
   ],
   "source": [
    "import pandas as pd\n",
    "import numpy as np\n",
    "from tensorflow import keras"
   ]
  },
  {
   "cell_type": "markdown",
   "id": "ef7e6156",
   "metadata": {},
   "source": [
    "## data prep"
   ]
  },
  {
   "cell_type": "code",
   "execution_count": 2,
   "id": "d85435ae",
   "metadata": {},
   "outputs": [
    {
     "data": {
      "text/plain": [
       "'2.9.0'"
      ]
     },
     "execution_count": 2,
     "metadata": {},
     "output_type": "execute_result"
    }
   ],
   "source": [
    "keras.__version__"
   ]
  },
  {
   "cell_type": "code",
   "execution_count": 3,
   "id": "4293db4a",
   "metadata": {},
   "outputs": [
    {
     "data": {
      "text/html": [
       "<div>\n",
       "<style scoped>\n",
       "    .dataframe tbody tr th:only-of-type {\n",
       "        vertical-align: middle;\n",
       "    }\n",
       "\n",
       "    .dataframe tbody tr th {\n",
       "        vertical-align: top;\n",
       "    }\n",
       "\n",
       "    .dataframe thead th {\n",
       "        text-align: right;\n",
       "    }\n",
       "</style>\n",
       "<table border=\"1\" class=\"dataframe\">\n",
       "  <thead>\n",
       "    <tr style=\"text-align: right;\">\n",
       "      <th></th>\n",
       "      <th>case</th>\n",
       "      <th>site</th>\n",
       "      <th>Pop</th>\n",
       "      <th>sex</th>\n",
       "      <th>age</th>\n",
       "      <th>hdlngth</th>\n",
       "      <th>skullw</th>\n",
       "      <th>totlngth</th>\n",
       "      <th>taill</th>\n",
       "      <th>footlgth</th>\n",
       "      <th>earconch</th>\n",
       "      <th>eye</th>\n",
       "      <th>chest</th>\n",
       "      <th>belly</th>\n",
       "    </tr>\n",
       "  </thead>\n",
       "  <tbody>\n",
       "    <tr>\n",
       "      <th>0</th>\n",
       "      <td>1</td>\n",
       "      <td>1</td>\n",
       "      <td>Vic</td>\n",
       "      <td>m</td>\n",
       "      <td>8.0</td>\n",
       "      <td>94.1</td>\n",
       "      <td>60.4</td>\n",
       "      <td>89.0</td>\n",
       "      <td>36.0</td>\n",
       "      <td>74.5</td>\n",
       "      <td>54.5</td>\n",
       "      <td>15.2</td>\n",
       "      <td>28.0</td>\n",
       "      <td>36.0</td>\n",
       "    </tr>\n",
       "    <tr>\n",
       "      <th>1</th>\n",
       "      <td>2</td>\n",
       "      <td>1</td>\n",
       "      <td>Vic</td>\n",
       "      <td>f</td>\n",
       "      <td>6.0</td>\n",
       "      <td>92.5</td>\n",
       "      <td>57.6</td>\n",
       "      <td>91.5</td>\n",
       "      <td>36.5</td>\n",
       "      <td>72.5</td>\n",
       "      <td>51.2</td>\n",
       "      <td>16.0</td>\n",
       "      <td>28.5</td>\n",
       "      <td>33.0</td>\n",
       "    </tr>\n",
       "    <tr>\n",
       "      <th>2</th>\n",
       "      <td>3</td>\n",
       "      <td>1</td>\n",
       "      <td>Vic</td>\n",
       "      <td>f</td>\n",
       "      <td>6.0</td>\n",
       "      <td>94.0</td>\n",
       "      <td>60.0</td>\n",
       "      <td>95.5</td>\n",
       "      <td>39.0</td>\n",
       "      <td>75.4</td>\n",
       "      <td>51.9</td>\n",
       "      <td>15.5</td>\n",
       "      <td>30.0</td>\n",
       "      <td>34.0</td>\n",
       "    </tr>\n",
       "    <tr>\n",
       "      <th>3</th>\n",
       "      <td>4</td>\n",
       "      <td>1</td>\n",
       "      <td>Vic</td>\n",
       "      <td>f</td>\n",
       "      <td>6.0</td>\n",
       "      <td>93.2</td>\n",
       "      <td>57.1</td>\n",
       "      <td>92.0</td>\n",
       "      <td>38.0</td>\n",
       "      <td>76.1</td>\n",
       "      <td>52.2</td>\n",
       "      <td>15.2</td>\n",
       "      <td>28.0</td>\n",
       "      <td>34.0</td>\n",
       "    </tr>\n",
       "    <tr>\n",
       "      <th>4</th>\n",
       "      <td>5</td>\n",
       "      <td>1</td>\n",
       "      <td>Vic</td>\n",
       "      <td>f</td>\n",
       "      <td>2.0</td>\n",
       "      <td>91.5</td>\n",
       "      <td>56.3</td>\n",
       "      <td>85.5</td>\n",
       "      <td>36.0</td>\n",
       "      <td>71.0</td>\n",
       "      <td>53.2</td>\n",
       "      <td>15.1</td>\n",
       "      <td>28.5</td>\n",
       "      <td>33.0</td>\n",
       "    </tr>\n",
       "  </tbody>\n",
       "</table>\n",
       "</div>"
      ],
      "text/plain": [
       "   case  site  Pop sex  age  hdlngth  skullw  totlngth  taill  footlgth  \\\n",
       "0     1     1  Vic   m  8.0     94.1    60.4      89.0   36.0      74.5   \n",
       "1     2     1  Vic   f  6.0     92.5    57.6      91.5   36.5      72.5   \n",
       "2     3     1  Vic   f  6.0     94.0    60.0      95.5   39.0      75.4   \n",
       "3     4     1  Vic   f  6.0     93.2    57.1      92.0   38.0      76.1   \n",
       "4     5     1  Vic   f  2.0     91.5    56.3      85.5   36.0      71.0   \n",
       "\n",
       "   earconch   eye  chest  belly  \n",
       "0      54.5  15.2   28.0   36.0  \n",
       "1      51.2  16.0   28.5   33.0  \n",
       "2      51.9  15.5   30.0   34.0  \n",
       "3      52.2  15.2   28.0   34.0  \n",
       "4      53.2  15.1   28.5   33.0  "
      ]
     },
     "execution_count": 3,
     "metadata": {},
     "output_type": "execute_result"
    }
   ],
   "source": [
    "df = pd.read_csv(\"data/possum.csv\").dropna()\n",
    "df.head()"
   ]
  },
  {
   "cell_type": "code",
   "execution_count": 4,
   "id": "2f03fac4",
   "metadata": {},
   "outputs": [
    {
     "data": {
      "text/plain": [
       "(101, 14)"
      ]
     },
     "execution_count": 4,
     "metadata": {},
     "output_type": "execute_result"
    }
   ],
   "source": [
    "df.shape"
   ]
  },
  {
   "cell_type": "code",
   "execution_count": 5,
   "id": "fb409e5c",
   "metadata": {},
   "outputs": [
    {
     "data": {
      "text/plain": [
       "Index(['case', 'site', 'Pop', 'sex', 'age', 'hdlngth', 'skullw', 'totlngth',\n",
       "       'taill', 'footlgth', 'earconch', 'eye', 'chest', 'belly'],\n",
       "      dtype='object')"
      ]
     },
     "execution_count": 5,
     "metadata": {},
     "output_type": "execute_result"
    }
   ],
   "source": [
    "df.columns"
   ]
  },
  {
   "cell_type": "code",
   "execution_count": 6,
   "id": "17eb8494",
   "metadata": {},
   "outputs": [
    {
     "data": {
      "text/plain": [
       "array([8., 6., 6., 6., 2., 1., 2., 6., 9., 6., 9., 5., 5., 3., 5., 4., 1.,\n",
       "       2., 5., 4., 3., 3., 4., 2., 3., 7., 2., 4., 3., 2., 3., 4., 3., 2.,\n",
       "       4., 7., 2., 7., 1., 3., 3., 2., 3., 2., 5., 4., 5., 5., 6., 3., 7.,\n",
       "       2., 3., 4., 3., 2., 2., 7., 3., 6., 3., 5., 3., 4., 5., 5., 7., 6.,\n",
       "       1., 1., 4., 6., 5., 6., 1., 1., 1., 3., 4., 3., 3., 3., 3., 2., 2.,\n",
       "       6., 3., 3., 2., 3., 7., 4., 4., 3., 5., 3., 1., 1., 6., 4., 3.])"
      ]
     },
     "execution_count": 6,
     "metadata": {},
     "output_type": "execute_result"
    }
   ],
   "source": [
    "y = df.age.values\n",
    "y"
   ]
  },
  {
   "cell_type": "code",
   "execution_count": 7,
   "id": "c9890366",
   "metadata": {},
   "outputs": [],
   "source": [
    "sex = (df.sex.values == \"f\") + 0.\n",
    "sex = sex.reshape(-1, 1)"
   ]
  },
  {
   "cell_type": "code",
   "execution_count": 8,
   "id": "b879abab",
   "metadata": {},
   "outputs": [
    {
     "data": {
      "text/plain": [
       "array([[94.1, 60.4, 89. , ..., 28. , 36. ,  0. ],\n",
       "       [92.5, 57.6, 91.5, ..., 28.5, 33. ,  1. ],\n",
       "       [94. , 60. , 95.5, ..., 30. , 34. ,  1. ],\n",
       "       ...,\n",
       "       [92.4, 55. , 89. , ..., 25. , 30. ,  1. ],\n",
       "       [91.5, 55.2, 82.5, ..., 25. , 29. ,  0. ],\n",
       "       [93.6, 59.9, 89. , ..., 28.5, 33.5,  1. ]])"
      ]
     },
     "execution_count": 8,
     "metadata": {},
     "output_type": "execute_result"
    }
   ],
   "source": [
    "x = np.hstack((df.iloc[:, 5:].values, sex))\n",
    "x"
   ]
  },
  {
   "cell_type": "code",
   "execution_count": 9,
   "id": "a15721a9",
   "metadata": {},
   "outputs": [
    {
     "name": "stdout",
     "output_type": "stream",
     "text": [
      "mu [92.73069307 56.96039604 87.26930693 37.04950495 68.3980198  48.13366337\n",
      " 15.05049505 27.06435644 32.63861386  0.41584158]\n",
      "sigma [3.50125133 3.08728081 4.17597425 1.96189562 4.39159819 4.04020089\n",
      " 1.05338904 2.0106934  2.71420795 0.49286647]\n"
     ]
    }
   ],
   "source": [
    "# take mean to standardize vector\n",
    "mu = x.mean(axis=0)\n",
    "print('mu', mu)\n",
    "sigma = x.std(axis=0)\n",
    "print('sigma', sigma)"
   ]
  },
  {
   "cell_type": "code",
   "execution_count": 10,
   "id": "bb5c9674",
   "metadata": {},
   "outputs": [
    {
     "data": {
      "text/plain": [
       "array([[ 0.39109073,  1.11412086,  0.41444055, ...,  0.46533378,\n",
       "         1.2384409 , -0.84372057],\n",
       "       [-0.06588875,  0.20717389,  1.01310325, ...,  0.71400422,\n",
       "         0.13314608,  1.18522652],\n",
       "       [ 0.36252951,  0.98455701,  1.97096356, ...,  1.46001552,\n",
       "         0.50157768,  1.18522652],\n",
       "       ...,\n",
       "       [-0.09444997, -0.63499116,  0.41444055, ..., -1.02668882,\n",
       "        -0.97214875,  1.18522652],\n",
       "       [-0.35150092, -0.57020924, -1.14208246, ..., -1.02668882,\n",
       "        -1.34058036, -0.84372057],\n",
       "       [ 0.24828464,  0.95216604,  0.41444055, ...,  0.71400422,\n",
       "         0.31736188,  1.18522652]])"
      ]
     },
     "execution_count": 10,
     "metadata": {},
     "output_type": "execute_result"
    }
   ],
   "source": [
    "x = (x-mu)/sigma\n",
    "x"
   ]
  },
  {
   "cell_type": "code",
   "execution_count": 11,
   "id": "6733bb35",
   "metadata": {},
   "outputs": [
    {
     "data": {
      "text/plain": [
       "((101, 10), dtype('float64'))"
      ]
     },
     "execution_count": 11,
     "metadata": {},
     "output_type": "execute_result"
    }
   ],
   "source": [
    "x.shape, x.dtype"
   ]
  },
  {
   "cell_type": "code",
   "execution_count": 12,
   "id": "70cc9187",
   "metadata": {},
   "outputs": [
    {
     "data": {
      "text/plain": [
       "((101,), dtype('float64'))"
      ]
     },
     "execution_count": 12,
     "metadata": {},
     "output_type": "execute_result"
    }
   ],
   "source": [
    "y.shape, y.dtype"
   ]
  },
  {
   "cell_type": "markdown",
   "id": "eec2ff1b",
   "metadata": {},
   "source": [
    "## Deep learning"
   ]
  },
  {
   "cell_type": "code",
   "execution_count": 13,
   "id": "663bb667",
   "metadata": {},
   "outputs": [
    {
     "name": "stderr",
     "output_type": "stream",
     "text": [
      "2022-06-07 08:38:52.671281: W tensorflow/stream_executor/platform/default/dso_loader.cc:64] Could not load dynamic library 'libcuda.so.1'; dlerror: libcuda.so.1: cannot open shared object file: No such file or directory\n",
      "2022-06-07 08:38:52.671301: W tensorflow/stream_executor/cuda/cuda_driver.cc:269] failed call to cuInit: UNKNOWN ERROR (303)\n",
      "2022-06-07 08:38:52.671317: I tensorflow/stream_executor/cuda/cuda_diagnostics.cc:156] kernel driver does not appear to be running on this host (nuc417.bin.bioinf.nl): /proc/driver/nvidia/version does not exist\n",
      "2022-06-07 08:38:52.671498: I tensorflow/core/platform/cpu_feature_guard.cc:193] This TensorFlow binary is optimized with oneAPI Deep Neural Network Library (oneDNN) to use the following CPU instructions in performance-critical operations:  AVX2 FMA\n",
      "To enable them in other operations, rebuild TensorFlow with the appropriate compiler flags.\n"
     ]
    }
   ],
   "source": [
    "# create model\n",
    "neural = keras.models.Sequential()\n",
    "\n",
    "# add input layer\n",
    "neural.add(keras.layers.InputLayer(input_shape=(10,), name='Input'))  # use 10, to add as tuple, we have 10 samples\n",
    "\n",
    "# add hidden layer\n",
    "neural.add(keras.layers.Dense(units=64, activation='relu', name='Hidden_1'))\n",
    "neural.add(keras.layers.Dense(units=16, activation='relu', name='Hidden_2'))\n",
    "\n",
    "# normally linear, but relu doesn't predict negative values, thus possible\n",
    "neural.add(keras.layers.Dense(units=1, activation='linear', name='Output'))\n",
    "# neural.add(keras.layers.Activation(activation=keras.activation.linear))"
   ]
  },
  {
   "cell_type": "code",
   "execution_count": 14,
   "id": "8e03216b",
   "metadata": {},
   "outputs": [
    {
     "name": "stdout",
     "output_type": "stream",
     "text": [
      "Epoch 1/100\n",
      "4/4 [==============================] - 0s 3ms/step - loss: 16.3573\n",
      "Epoch 2/100\n",
      "4/4 [==============================] - 0s 2ms/step - loss: 8.0144\n",
      "Epoch 3/100\n",
      "4/4 [==============================] - 0s 2ms/step - loss: 4.6992\n",
      "Epoch 4/100\n",
      "4/4 [==============================] - 0s 2ms/step - loss: 4.0661\n",
      "Epoch 5/100\n",
      "4/4 [==============================] - 0s 3ms/step - loss: 3.8492\n",
      "Epoch 6/100\n",
      "4/4 [==============================] - 0s 2ms/step - loss: 3.3475\n",
      "Epoch 7/100\n",
      "4/4 [==============================] - 0s 2ms/step - loss: 3.1967\n",
      "Epoch 8/100\n",
      "4/4 [==============================] - 0s 2ms/step - loss: 2.9488\n",
      "Epoch 9/100\n",
      "4/4 [==============================] - 0s 1ms/step - loss: 2.8463\n",
      "Epoch 10/100\n",
      "4/4 [==============================] - 0s 1ms/step - loss: 3.0319\n",
      "Epoch 11/100\n",
      "4/4 [==============================] - 0s 2ms/step - loss: 2.9069\n",
      "Epoch 12/100\n",
      "4/4 [==============================] - 0s 2ms/step - loss: 2.5169\n",
      "Epoch 13/100\n",
      "4/4 [==============================] - 0s 1ms/step - loss: 2.4782\n",
      "Epoch 14/100\n",
      "4/4 [==============================] - 0s 1ms/step - loss: 2.4776\n",
      "Epoch 15/100\n",
      "4/4 [==============================] - 0s 2ms/step - loss: 2.3117\n",
      "Epoch 16/100\n",
      "4/4 [==============================] - 0s 3ms/step - loss: 2.2844\n",
      "Epoch 17/100\n",
      "4/4 [==============================] - 0s 2ms/step - loss: 2.1488\n",
      "Epoch 18/100\n",
      "4/4 [==============================] - 0s 2ms/step - loss: 2.1535\n",
      "Epoch 19/100\n",
      "4/4 [==============================] - 0s 3ms/step - loss: 2.1003\n",
      "Epoch 20/100\n",
      "4/4 [==============================] - 0s 3ms/step - loss: 2.1189\n",
      "Epoch 21/100\n",
      "4/4 [==============================] - 0s 3ms/step - loss: 2.0596\n",
      "Epoch 22/100\n",
      "4/4 [==============================] - 0s 2ms/step - loss: 2.0301\n",
      "Epoch 23/100\n",
      "4/4 [==============================] - 0s 2ms/step - loss: 2.0562\n",
      "Epoch 24/100\n",
      "4/4 [==============================] - 0s 2ms/step - loss: 1.8496\n",
      "Epoch 25/100\n",
      "4/4 [==============================] - 0s 2ms/step - loss: 1.9178\n",
      "Epoch 26/100\n",
      "4/4 [==============================] - 0s 2ms/step - loss: 1.8992\n",
      "Epoch 27/100\n",
      "4/4 [==============================] - 0s 2ms/step - loss: 1.8108\n",
      "Epoch 28/100\n",
      "4/4 [==============================] - 0s 2ms/step - loss: 1.7793\n",
      "Epoch 29/100\n",
      "4/4 [==============================] - 0s 1ms/step - loss: 1.7582\n",
      "Epoch 30/100\n",
      "4/4 [==============================] - 0s 2ms/step - loss: 1.7599\n",
      "Epoch 31/100\n",
      "4/4 [==============================] - 0s 1ms/step - loss: 1.7330\n",
      "Epoch 32/100\n",
      "4/4 [==============================] - 0s 1ms/step - loss: 1.7706\n",
      "Epoch 33/100\n",
      "4/4 [==============================] - 0s 2ms/step - loss: 1.6637\n",
      "Epoch 34/100\n",
      "4/4 [==============================] - 0s 2ms/step - loss: 1.6222\n",
      "Epoch 35/100\n",
      "4/4 [==============================] - 0s 2ms/step - loss: 1.7358\n",
      "Epoch 36/100\n",
      "4/4 [==============================] - 0s 2ms/step - loss: 1.5565\n",
      "Epoch 37/100\n",
      "4/4 [==============================] - 0s 2ms/step - loss: 1.4975\n",
      "Epoch 38/100\n",
      "4/4 [==============================] - 0s 2ms/step - loss: 1.4999\n",
      "Epoch 39/100\n",
      "4/4 [==============================] - 0s 1ms/step - loss: 1.5051\n",
      "Epoch 40/100\n",
      "4/4 [==============================] - 0s 2ms/step - loss: 1.5207\n",
      "Epoch 41/100\n",
      "4/4 [==============================] - 0s 2ms/step - loss: 1.4441\n",
      "Epoch 42/100\n",
      "4/4 [==============================] - 0s 2ms/step - loss: 1.4304\n",
      "Epoch 43/100\n",
      "4/4 [==============================] - 0s 1ms/step - loss: 1.3952\n",
      "Epoch 44/100\n",
      "4/4 [==============================] - 0s 2ms/step - loss: 1.5173\n",
      "Epoch 45/100\n",
      "4/4 [==============================] - 0s 1ms/step - loss: 1.6449\n",
      "Epoch 46/100\n",
      "4/4 [==============================] - 0s 2ms/step - loss: 1.3132\n",
      "Epoch 47/100\n",
      "4/4 [==============================] - 0s 1ms/step - loss: 1.3349\n",
      "Epoch 48/100\n",
      "4/4 [==============================] - 0s 2ms/step - loss: 1.3305\n",
      "Epoch 49/100\n",
      "4/4 [==============================] - 0s 2ms/step - loss: 1.3110\n",
      "Epoch 50/100\n",
      "4/4 [==============================] - 0s 2ms/step - loss: 1.2452\n",
      "Epoch 51/100\n",
      "4/4 [==============================] - 0s 2ms/step - loss: 1.2528\n",
      "Epoch 52/100\n",
      "4/4 [==============================] - 0s 2ms/step - loss: 1.2131\n",
      "Epoch 53/100\n",
      "4/4 [==============================] - 0s 2ms/step - loss: 1.1976\n",
      "Epoch 54/100\n",
      "4/4 [==============================] - 0s 1ms/step - loss: 1.1272\n",
      "Epoch 55/100\n",
      "4/4 [==============================] - 0s 2ms/step - loss: 1.1136\n",
      "Epoch 56/100\n",
      "4/4 [==============================] - 0s 2ms/step - loss: 1.1185\n",
      "Epoch 57/100\n",
      "4/4 [==============================] - 0s 2ms/step - loss: 1.1128\n",
      "Epoch 58/100\n",
      "4/4 [==============================] - 0s 2ms/step - loss: 1.0541\n",
      "Epoch 59/100\n",
      "4/4 [==============================] - 0s 2ms/step - loss: 1.2572\n",
      "Epoch 60/100\n",
      "4/4 [==============================] - 0s 1ms/step - loss: 1.0641\n",
      "Epoch 61/100\n",
      "4/4 [==============================] - 0s 2ms/step - loss: 1.1459\n",
      "Epoch 62/100\n",
      "4/4 [==============================] - 0s 2ms/step - loss: 0.9629\n",
      "Epoch 63/100\n",
      "4/4 [==============================] - 0s 2ms/step - loss: 1.0065\n",
      "Epoch 64/100\n",
      "4/4 [==============================] - 0s 2ms/step - loss: 0.9843\n",
      "Epoch 65/100\n",
      "4/4 [==============================] - 0s 1ms/step - loss: 0.9360\n",
      "Epoch 66/100\n",
      "4/4 [==============================] - 0s 2ms/step - loss: 1.0808\n",
      "Epoch 67/100\n",
      "4/4 [==============================] - 0s 1ms/step - loss: 1.0235\n",
      "Epoch 68/100\n",
      "4/4 [==============================] - 0s 1ms/step - loss: 1.0506\n",
      "Epoch 69/100\n",
      "4/4 [==============================] - 0s 1ms/step - loss: 0.9472\n",
      "Epoch 70/100\n",
      "4/4 [==============================] - 0s 2ms/step - loss: 0.9008\n",
      "Epoch 71/100\n",
      "4/4 [==============================] - 0s 1ms/step - loss: 0.9159\n",
      "Epoch 72/100\n",
      "4/4 [==============================] - 0s 1ms/step - loss: 0.9711\n",
      "Epoch 73/100\n",
      "4/4 [==============================] - 0s 1ms/step - loss: 0.8720\n",
      "Epoch 74/100\n",
      "4/4 [==============================] - 0s 2ms/step - loss: 1.0097\n",
      "Epoch 75/100\n",
      "4/4 [==============================] - 0s 1ms/step - loss: 0.9045\n",
      "Epoch 76/100\n",
      "4/4 [==============================] - 0s 2ms/step - loss: 0.8497\n",
      "Epoch 77/100\n",
      "4/4 [==============================] - 0s 2ms/step - loss: 0.8934\n",
      "Epoch 78/100\n",
      "4/4 [==============================] - 0s 2ms/step - loss: 0.8385\n",
      "Epoch 79/100\n",
      "4/4 [==============================] - 0s 2ms/step - loss: 0.8683\n",
      "Epoch 80/100\n",
      "4/4 [==============================] - 0s 1ms/step - loss: 0.9602\n",
      "Epoch 81/100\n",
      "4/4 [==============================] - 0s 2ms/step - loss: 0.8089\n",
      "Epoch 82/100\n",
      "4/4 [==============================] - 0s 1ms/step - loss: 0.8016\n",
      "Epoch 83/100\n",
      "4/4 [==============================] - 0s 2ms/step - loss: 0.8281\n",
      "Epoch 84/100\n",
      "4/4 [==============================] - 0s 1ms/step - loss: 0.7212\n",
      "Epoch 85/100\n",
      "4/4 [==============================] - 0s 1ms/step - loss: 0.7567\n",
      "Epoch 86/100\n",
      "4/4 [==============================] - 0s 2ms/step - loss: 0.7911\n",
      "Epoch 87/100\n",
      "4/4 [==============================] - 0s 2ms/step - loss: 0.7684\n",
      "Epoch 88/100\n",
      "4/4 [==============================] - 0s 1ms/step - loss: 0.7846\n",
      "Epoch 89/100\n",
      "4/4 [==============================] - 0s 2ms/step - loss: 0.6825\n",
      "Epoch 90/100\n",
      "4/4 [==============================] - 0s 2ms/step - loss: 0.7907\n",
      "Epoch 91/100\n",
      "4/4 [==============================] - 0s 2ms/step - loss: 0.7741\n",
      "Epoch 92/100\n",
      "4/4 [==============================] - 0s 1ms/step - loss: 0.6733\n",
      "Epoch 93/100\n",
      "4/4 [==============================] - 0s 2ms/step - loss: 0.7411\n",
      "Epoch 94/100\n",
      "4/4 [==============================] - 0s 1ms/step - loss: 0.6929\n",
      "Epoch 95/100\n",
      "4/4 [==============================] - 0s 1ms/step - loss: 0.7000\n",
      "Epoch 96/100\n",
      "4/4 [==============================] - 0s 1ms/step - loss: 0.8028\n",
      "Epoch 97/100\n",
      "4/4 [==============================] - 0s 2ms/step - loss: 0.9957\n",
      "Epoch 98/100\n",
      "4/4 [==============================] - 0s 2ms/step - loss: 0.6592\n",
      "Epoch 99/100\n",
      "4/4 [==============================] - 0s 1ms/step - loss: 0.6086\n",
      "Epoch 100/100\n",
      "4/4 [==============================] - 0s 2ms/step - loss: 0.6354\n"
     ]
    },
    {
     "data": {
      "text/plain": [
       "<keras.callbacks.History at 0x7f30fc5e57c0>"
      ]
     },
     "execution_count": 14,
     "metadata": {},
     "output_type": "execute_result"
    }
   ],
   "source": [
    "neural.compile(\n",
    "    loss=keras.losses.MeanSquaredError(),\n",
    "    optimizer=keras.optimizers.SGD())\n",
    "neural.fit(\n",
    "    x=x,\n",
    "    y=y,\n",
    "    epochs=100)\n",
    "# verbose=0"
   ]
  },
  {
   "cell_type": "code",
   "execution_count": 15,
   "id": "d6fe5fbd",
   "metadata": {},
   "outputs": [
    {
     "name": "stdout",
     "output_type": "stream",
     "text": [
      "4/4 [==============================] - 0s 1ms/step - loss: 0.7556\n"
     ]
    },
    {
     "data": {
      "text/plain": [
       "0.7555572390556335"
      ]
     },
     "execution_count": 15,
     "metadata": {},
     "output_type": "execute_result"
    }
   ],
   "source": [
    "neural.evaluate(x, y)"
   ]
  },
  {
   "cell_type": "code",
   "execution_count": 16,
   "id": "85efe1ab",
   "metadata": {},
   "outputs": [],
   "source": [
    "import matplotlib.pyplot as plt"
   ]
  },
  {
   "cell_type": "code",
   "execution_count": 17,
   "id": "b0d59682",
   "metadata": {},
   "outputs": [
    {
     "name": "stdout",
     "output_type": "stream",
     "text": [
      "4/4 [==============================] - 0s 1ms/step\n"
     ]
    }
   ],
   "source": [
    "yhat = neural.predict(x)"
   ]
  },
  {
   "cell_type": "code",
   "execution_count": 18,
   "id": "6eabde2a",
   "metadata": {},
   "outputs": [
    {
     "data": {
      "image/png": "[encoded data removed]",
      "text/plain": [
       "<Figure size 432x288 with 1 Axes>"
      ]
     },
     "metadata": {
      "needs_background": "light"
     },
     "output_type": "display_data"
    }
   ],
   "source": [
    "plt.scatter(y, yhat)\n",
    "plt.plot([0, 10], [0, 10], '-k')\n",
    "plt.title('real vs predicted')\n",
    "plt.ylabel('$\\hat{y}$')\n",
    "plt.xlabel('x')\n",
    "plt.axis('square')\n",
    "plt.show()"
   ]
  },
  {
   "cell_type": "code",
   "execution_count": 19,
   "id": "ed6246f1",
   "metadata": {},
   "outputs": [],
   "source": [
    "from sklearn.metrics import r2_score, mean_absolute_error, mean_squared_error"
   ]
  },
  {
   "cell_type": "code",
   "execution_count": 22,
   "id": "5825621b",
   "metadata": {},
   "outputs": [
    {
     "name": "stdout",
     "output_type": "stream",
     "text": [
      "R2: 0.792 years\n",
      "MAE: 0.676 years\n",
      "RMSE: 0.756 years\n"
     ]
    }
   ],
   "source": [
    "print(f'R2: {r2_score(y, yhat):.3} years')\n",
    "print(f'MAE: {mean_absolute_error(y, yhat):.3} years')\n",
    "print(f'RMSE: {mean_squared_error(y, yhat):.3} years')"
   ]
  },
  {
   "cell_type": "markdown",
   "id": "2445ace0",
   "metadata": {},
   "source": [
    "# Machine Learning (numpy)"
   ]
  },
  {
   "cell_type": "code",
   "execution_count": 27,
   "id": "49db6945",
   "metadata": {},
   "outputs": [
    {
     "data": {
      "text/plain": [
       "array([4.47556503, 4.39063686, 4.5600785 , 3.98820729, 4.35467852,\n",
       "       4.07538781, 4.37880811, 4.57853344, 4.38980819, 4.02147278,\n",
       "       4.11125476, 4.29692558, 3.93010996, 3.80384478, 4.54260121,\n",
       "       3.24994919, 4.34544963, 3.97439761, 4.17867029, 4.5394946 ,\n",
       "       4.93370964, 4.75931173, 4.5414402 , 3.73206556, 4.70513833,\n",
       "       5.19556533, 2.36991507, 3.39452414, 2.81024713, 3.39864138,\n",
       "       3.75739969, 4.11220801, 2.80023803, 2.58513638, 5.11872818,\n",
       "       3.72323915, 3.31021744, 3.58641014, 1.79368547, 2.87000462,\n",
       "       3.4324904 , 3.01312736, 3.4152756 , 3.23454294, 5.04824163,\n",
       "       4.50610486, 4.74990746, 5.8787146 , 4.25769994, 4.35544787,\n",
       "       5.29316816, 5.13484477, 4.45764202, 5.40905634, 4.4337871 ,\n",
       "       4.74850168, 3.72122378, 3.88911744, 3.77800652, 3.49624204,\n",
       "       4.97665268, 4.24505241, 4.26851766, 3.76923779, 3.83383298,\n",
       "       4.51205282, 3.47397407, 3.76395128, 2.35494878, 1.94394391,\n",
       "       4.05218179, 4.28993072, 4.63040362, 4.15381168, 1.57849887,\n",
       "       1.7709161 , 2.70345037, 4.12050866, 3.62031287, 2.830205  ,\n",
       "       2.97015666, 3.05777882, 3.28047974, 4.05653947, 3.44431032,\n",
       "       4.0712687 , 2.74779517, 4.17586821, 2.89011249, 2.26574897,\n",
       "       4.19219049, 3.50860541, 3.41195193, 3.17639593, 3.88715946,\n",
       "       4.14947618, 2.13497579, 3.24090352, 2.99438713, 3.22261231,\n",
       "       4.29205699])"
      ]
     },
     "execution_count": 27,
     "metadata": {},
     "output_type": "execute_result"
    }
   ],
   "source": [
    "design_matrix = np.hstack((np.ones((101, 1)), x))\n",
    "coef = np.linalg.solve(design_matrix.T@design_matrix, design_matrix.T@y)\n",
    "yhat = design_matrix @ coef\n",
    "yhat"
   ]
  },
  {
   "cell_type": "code",
   "execution_count": 28,
   "id": "60200d34",
   "metadata": {},
   "outputs": [
    {
     "data": {
      "image/png": "[encoded data removed]",
      "text/plain": [
       "<Figure size 432x288 with 1 Axes>"
      ]
     },
     "metadata": {
      "needs_background": "light"
     },
     "output_type": "display_data"
    }
   ],
   "source": [
    "plt.scatter(y, yhat)\n",
    "plt.plot([0, 10], [0, 10], '-k')\n",
    "plt.title('real vs predicted')\n",
    "plt.ylabel('$\\hat{y}$')\n",
    "plt.xlabel('x')\n",
    "plt.axis('square')\n",
    "plt.show()"
   ]
  }
 ],
 "metadata": {
  "kernelspec": {
   "display_name": "Python 3 (ipykernel)",
   "language": "python",
   "name": "python3"
  },
  "language_info": {
   "codemirror_mode": {
    "name": "ipython",
    "version": 3
   },
   "file_extension": ".py",
   "mimetype": "text/x-python",
   "name": "python",
   "nbconvert_exporter": "python",
   "pygments_lexer": "ipython3",
   "version": "3.8.12"
  }
 },
 "nbformat": 4,
 "nbformat_minor": 5
}
