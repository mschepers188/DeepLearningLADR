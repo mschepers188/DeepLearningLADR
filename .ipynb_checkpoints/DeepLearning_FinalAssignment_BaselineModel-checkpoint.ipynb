{
 "cells": [
  {
   "cell_type": "code",
   "execution_count": 1,
   "id": "f731aa2c",
   "metadata": {},
   "outputs": [],
   "source": [
    "from data_to_array_tool import *\n",
    "from pca import pca\n",
    "import matplotlib.pyplot as plt"
   ]
  },
  {
   "cell_type": "markdown",
   "id": "3549f8c7",
   "metadata": {},
   "source": [
    "## Data preparation"
   ]
  },
  {
   "cell_type": "markdown",
   "id": "ed63e5d9",
   "metadata": {},
   "source": [
    " As the Kaggle entry states, the folder 'dataset2-master' contains 2,500 augmented images with 4 additional subtype labels (JPEG + CSV)."
   ]
  },
  {
   "cell_type": "code",
   "execution_count": 2,
   "id": "95135b19",
   "metadata": {},
   "outputs": [
    {
     "name": "stdout",
     "output_type": "stream",
     "text": [
      "Importing images from: ['C:\\\\Users\\\\Martin Schepers\\\\Documents\\\\dataset2-master\\\\dataset2-master\\\\images\\\\TRAIN\\\\EOSINOPHIL\\\\*.jpeg', 'C:\\\\Users\\\\Martin Schepers\\\\Documents\\\\dataset2-master\\\\dataset2-master\\\\images\\\\TRAIN\\\\LYMPHOCYTE\\\\*.jpeg', 'C:\\\\Users\\\\Martin Schepers\\\\Documents\\\\dataset2-master\\\\dataset2-master\\\\images\\\\TRAIN\\\\MONOCYTE\\\\*.jpeg', 'C:\\\\Users\\\\Martin Schepers\\\\Documents\\\\dataset2-master\\\\dataset2-master\\\\images\\\\TRAIN\\\\NEUTROPHIL\\\\*.jpeg']\n",
      "Importing images from: ['C:\\\\Users\\\\Martin Schepers\\\\Documents\\\\dataset2-master\\\\dataset2-master\\\\images\\\\TEST\\\\EOSINOPHIL\\\\*.jpeg', 'C:\\\\Users\\\\Martin Schepers\\\\Documents\\\\dataset2-master\\\\dataset2-master\\\\images\\\\TEST\\\\LYMPHOCYTE\\\\*.jpeg', 'C:\\\\Users\\\\Martin Schepers\\\\Documents\\\\dataset2-master\\\\dataset2-master\\\\images\\\\TEST\\\\MONOCYTE\\\\*.jpeg', 'C:\\\\Users\\\\Martin Schepers\\\\Documents\\\\dataset2-master\\\\dataset2-master\\\\images\\\\TEST\\\\NEUTROPHIL\\\\*.jpeg']\n"
     ]
    }
   ],
   "source": [
    "path_list_train = [\n",
    "    'C:\\\\Users\\\\Martin Schepers\\\\Documents\\\\dataset2-master\\\\dataset2-master\\\\images\\\\TRAIN\\\\EOSINOPHIL\\\\*.jpeg',\n",
    "    'C:\\\\Users\\\\Martin Schepers\\\\Documents\\\\dataset2-master\\\\dataset2-master\\\\images\\\\TRAIN\\\\LYMPHOCYTE\\\\*.jpeg',\n",
    "    'C:\\\\Users\\\\Martin Schepers\\\\Documents\\\\dataset2-master\\\\dataset2-master\\\\images\\\\TRAIN\\\\MONOCYTE\\\\*.jpeg',\n",
    "    'C:\\\\Users\\\\Martin Schepers\\\\Documents\\\\dataset2-master\\\\dataset2-master\\\\images\\\\TRAIN\\\\NEUTROPHIL\\\\*.jpeg'\n",
    "]\n",
    "\n",
    "path_list_test = [\n",
    "    'C:\\\\Users\\\\Martin Schepers\\\\Documents\\\\dataset2-master\\\\dataset2-master\\\\images\\\\TEST\\\\EOSINOPHIL\\\\*.jpeg',\n",
    "    'C:\\\\Users\\\\Martin Schepers\\\\Documents\\\\dataset2-master\\\\dataset2-master\\\\images\\\\TEST\\\\LYMPHOCYTE\\\\*.jpeg',\n",
    "    'C:\\\\Users\\\\Martin Schepers\\\\Documents\\\\dataset2-master\\\\dataset2-master\\\\images\\\\TEST\\\\MONOCYTE\\\\*.jpeg',\n",
    "    'C:\\\\Users\\\\Martin Schepers\\\\Documents\\\\dataset2-master\\\\dataset2-master\\\\images\\\\TEST\\\\NEUTROPHIL\\\\*.jpeg'\n",
    "]\n",
    "\n",
    "\n",
    "def get_data(path_list):\n",
    "    dataloader = DataLoader(path_list)\n",
    "    arrays = dataloader.imgs_to_array()\n",
    "    arrays = dataloader.array_reshaper(arrays)\n",
    "    array_df = dataloader.arrays_to_df(arrays)\n",
    "    return array_df\n",
    "\n",
    "\n",
    "train_df = get_data(path_list_train)\n",
    "test_df = get_data(path_list_test)"
   ]
  },
  {
   "cell_type": "code",
   "execution_count": 3,
   "id": "26bd055c",
   "metadata": {},
   "outputs": [
    {
     "name": "stdout",
     "output_type": "stream",
     "text": [
      "3    2499\n",
      "0    2497\n",
      "1    2483\n",
      "2    2478\n",
      "Name: Label, dtype: int64\n",
      "3    624\n",
      "0    623\n",
      "1    620\n",
      "2    620\n",
      "Name: Label, dtype: int64\n"
     ]
    }
   ],
   "source": [
    "print(train_df['Label'].value_counts())\n",
    "print(test_df['Label'].value_counts())"
   ]
  },
  {
   "cell_type": "code",
   "execution_count": 4,
   "id": "a5413ee7",
   "metadata": {},
   "outputs": [
    {
     "data": {
      "text/html": [
       "<div>\n",
       "<style scoped>\n",
       "    .dataframe tbody tr th:only-of-type {\n",
       "        vertical-align: middle;\n",
       "    }\n",
       "\n",
       "    .dataframe tbody tr th {\n",
       "        vertical-align: top;\n",
       "    }\n",
       "\n",
       "    .dataframe thead th {\n",
       "        text-align: right;\n",
       "    }\n",
       "</style>\n",
       "<table border=\"1\" class=\"dataframe\">\n",
       "  <thead>\n",
       "    <tr style=\"text-align: right;\">\n",
       "      <th></th>\n",
       "      <th>0</th>\n",
       "      <th>1</th>\n",
       "      <th>2</th>\n",
       "      <th>3</th>\n",
       "      <th>4</th>\n",
       "      <th>5</th>\n",
       "      <th>6</th>\n",
       "      <th>7</th>\n",
       "      <th>8</th>\n",
       "      <th>9</th>\n",
       "      <th>...</th>\n",
       "      <th>76791</th>\n",
       "      <th>76792</th>\n",
       "      <th>76793</th>\n",
       "      <th>76794</th>\n",
       "      <th>76795</th>\n",
       "      <th>76796</th>\n",
       "      <th>76797</th>\n",
       "      <th>76798</th>\n",
       "      <th>76799</th>\n",
       "      <th>Label</th>\n",
       "    </tr>\n",
       "  </thead>\n",
       "  <tbody>\n",
       "    <tr>\n",
       "      <th>2494</th>\n",
       "      <td>0.000000</td>\n",
       "      <td>0.000000</td>\n",
       "      <td>0.000000</td>\n",
       "      <td>0.000000</td>\n",
       "      <td>0.000000</td>\n",
       "      <td>0.000000</td>\n",
       "      <td>0.000000</td>\n",
       "      <td>0.000000</td>\n",
       "      <td>0.000000</td>\n",
       "      <td>0.000000</td>\n",
       "      <td>...</td>\n",
       "      <td>0.000000</td>\n",
       "      <td>0.003922</td>\n",
       "      <td>0.007843</td>\n",
       "      <td>0.007843</td>\n",
       "      <td>0.003922</td>\n",
       "      <td>0.000000</td>\n",
       "      <td>0.003922</td>\n",
       "      <td>0.007843</td>\n",
       "      <td>0.007843</td>\n",
       "      <td>3</td>\n",
       "    </tr>\n",
       "    <tr>\n",
       "      <th>2495</th>\n",
       "      <td>0.000000</td>\n",
       "      <td>0.000000</td>\n",
       "      <td>0.000000</td>\n",
       "      <td>0.000000</td>\n",
       "      <td>0.000000</td>\n",
       "      <td>0.000000</td>\n",
       "      <td>0.000000</td>\n",
       "      <td>0.000000</td>\n",
       "      <td>0.023529</td>\n",
       "      <td>0.000000</td>\n",
       "      <td>...</td>\n",
       "      <td>0.000000</td>\n",
       "      <td>0.000000</td>\n",
       "      <td>0.000000</td>\n",
       "      <td>0.000000</td>\n",
       "      <td>0.000000</td>\n",
       "      <td>0.000000</td>\n",
       "      <td>0.000000</td>\n",
       "      <td>0.000000</td>\n",
       "      <td>0.000000</td>\n",
       "      <td>3</td>\n",
       "    </tr>\n",
       "    <tr>\n",
       "      <th>2496</th>\n",
       "      <td>0.000000</td>\n",
       "      <td>0.000000</td>\n",
       "      <td>0.000000</td>\n",
       "      <td>0.000000</td>\n",
       "      <td>0.000000</td>\n",
       "      <td>0.000000</td>\n",
       "      <td>0.000000</td>\n",
       "      <td>0.000000</td>\n",
       "      <td>0.000000</td>\n",
       "      <td>0.000000</td>\n",
       "      <td>...</td>\n",
       "      <td>0.647059</td>\n",
       "      <td>0.662745</td>\n",
       "      <td>0.670588</td>\n",
       "      <td>0.635294</td>\n",
       "      <td>0.670588</td>\n",
       "      <td>0.654902</td>\n",
       "      <td>0.654902</td>\n",
       "      <td>0.066667</td>\n",
       "      <td>0.011765</td>\n",
       "      <td>3</td>\n",
       "    </tr>\n",
       "    <tr>\n",
       "      <th>2497</th>\n",
       "      <td>0.835294</td>\n",
       "      <td>0.835294</td>\n",
       "      <td>0.835294</td>\n",
       "      <td>0.839216</td>\n",
       "      <td>0.839216</td>\n",
       "      <td>0.843137</td>\n",
       "      <td>0.843137</td>\n",
       "      <td>0.843137</td>\n",
       "      <td>0.847059</td>\n",
       "      <td>0.843137</td>\n",
       "      <td>...</td>\n",
       "      <td>0.000000</td>\n",
       "      <td>0.000000</td>\n",
       "      <td>0.000000</td>\n",
       "      <td>0.000000</td>\n",
       "      <td>0.000000</td>\n",
       "      <td>0.000000</td>\n",
       "      <td>0.000000</td>\n",
       "      <td>0.000000</td>\n",
       "      <td>0.000000</td>\n",
       "      <td>3</td>\n",
       "    </tr>\n",
       "    <tr>\n",
       "      <th>2498</th>\n",
       "      <td>0.000000</td>\n",
       "      <td>0.000000</td>\n",
       "      <td>0.000000</td>\n",
       "      <td>0.000000</td>\n",
       "      <td>0.000000</td>\n",
       "      <td>0.000000</td>\n",
       "      <td>0.000000</td>\n",
       "      <td>0.000000</td>\n",
       "      <td>0.007843</td>\n",
       "      <td>0.047059</td>\n",
       "      <td>...</td>\n",
       "      <td>0.000000</td>\n",
       "      <td>0.000000</td>\n",
       "      <td>0.000000</td>\n",
       "      <td>0.000000</td>\n",
       "      <td>0.000000</td>\n",
       "      <td>0.000000</td>\n",
       "      <td>0.000000</td>\n",
       "      <td>0.000000</td>\n",
       "      <td>0.000000</td>\n",
       "      <td>3</td>\n",
       "    </tr>\n",
       "  </tbody>\n",
       "</table>\n",
       "<p>5 rows × 76801 columns</p>\n",
       "</div>"
      ],
      "text/plain": [
       "             0         1         2         3         4         5         6  \\\n",
       "2494  0.000000  0.000000  0.000000  0.000000  0.000000  0.000000  0.000000   \n",
       "2495  0.000000  0.000000  0.000000  0.000000  0.000000  0.000000  0.000000   \n",
       "2496  0.000000  0.000000  0.000000  0.000000  0.000000  0.000000  0.000000   \n",
       "2497  0.835294  0.835294  0.835294  0.839216  0.839216  0.843137  0.843137   \n",
       "2498  0.000000  0.000000  0.000000  0.000000  0.000000  0.000000  0.000000   \n",
       "\n",
       "             7         8         9  ...     76791     76792     76793  \\\n",
       "2494  0.000000  0.000000  0.000000  ...  0.000000  0.003922  0.007843   \n",
       "2495  0.000000  0.023529  0.000000  ...  0.000000  0.000000  0.000000   \n",
       "2496  0.000000  0.000000  0.000000  ...  0.647059  0.662745  0.670588   \n",
       "2497  0.843137  0.847059  0.843137  ...  0.000000  0.000000  0.000000   \n",
       "2498  0.000000  0.007843  0.047059  ...  0.000000  0.000000  0.000000   \n",
       "\n",
       "         76794     76795     76796     76797     76798     76799  Label  \n",
       "2494  0.007843  0.003922  0.000000  0.003922  0.007843  0.007843      3  \n",
       "2495  0.000000  0.000000  0.000000  0.000000  0.000000  0.000000      3  \n",
       "2496  0.635294  0.670588  0.654902  0.654902  0.066667  0.011765      3  \n",
       "2497  0.000000  0.000000  0.000000  0.000000  0.000000  0.000000      3  \n",
       "2498  0.000000  0.000000  0.000000  0.000000  0.000000  0.000000      3  \n",
       "\n",
       "[5 rows x 76801 columns]"
      ]
     },
     "execution_count": 4,
     "metadata": {},
     "output_type": "execute_result"
    }
   ],
   "source": [
    "train_df.tail()"
   ]
  },
  {
   "cell_type": "code",
   "execution_count": 5,
   "id": "c8945a0a",
   "metadata": {},
   "outputs": [],
   "source": [
    "# We do not need the labels (Divorce, no divorce)\n",
    "df_unlabeled = train_df.drop('Label', axis=1)"
   ]
  },
  {
   "cell_type": "code",
   "execution_count": 9,
   "id": "a38c6c38",
   "metadata": {},
   "outputs": [
    {
     "name": "stdout",
     "output_type": "stream",
     "text": [
      "[pca] >Processing dataframe..\n",
      "[pca] >The PCA reduction is performed to capture [85.0%] explained variance using the [76800] columns of the input data.\n",
      "[pca] >Fit using PCA.\n",
      "[pca] >Compute loadings and PCs.\n",
      "[pca] >Compute explained variance.\n",
      "[pca] >Number of components is [86] that covers the [85.00%] explained variance.\n",
      "[pca] >The PCA reduction is performed on the [76800] columns of the input dataframe.\n",
      "[pca] >Fit using PCA.\n",
      "[pca] >Compute loadings and PCs.\n",
      "[pca] >Outlier detection using Hotelling T2 test with alpha=[0.05] and n_components=[86]\n",
      "[pca] >Outlier detection using SPE/DmodX with n_std=[2]\n"
     ]
    }
   ],
   "source": [
    "# Creating model which considers 15 principal components,\n",
    "# no normalization necessary due to data already being in the same scale.\n",
    "model = pca(n_components=0.85, normalize=False)\n",
    "results = model.fit_transform(df_unlabeled)"
   ]
  },
  {
   "cell_type": "code",
   "execution_count": 10,
   "id": "e3fbd4fb",
   "metadata": {},
   "outputs": [
    {
     "data": {
      "image/png": "[encoded data removed]",
      "text/plain": [
       "<Figure size 720x576 with 1 Axes>"
      ]
     },
     "metadata": {
      "needs_background": "light"
     },
     "output_type": "display_data"
    },
    {
     "data": {
      "text/plain": [
       "<Figure size 432x288 with 0 Axes>"
      ]
     },
     "metadata": {},
     "output_type": "display_data"
    }
   ],
   "source": [
    "# Plot the model to see how much is explained by how many principal components\n",
    "model.plot(figsize=(10,8))\n",
    "plt.show()"
   ]
  },
  {
   "cell_type": "code",
   "execution_count": 13,
   "id": "d1fdb903",
   "metadata": {},
   "outputs": [
    {
     "name": "stdout",
     "output_type": "stream",
     "text": [
      "         PC  feature   loading  type\n",
      "0       PC1    37760 -0.012497  best\n",
      "1       PC2      156  0.014437  best\n",
      "2       PC3      258  0.012608  best\n",
      "3       PC4     8930  0.012471  best\n",
      "4       PC5     5524 -0.011482  best\n",
      "...     ...      ...       ...   ...\n",
      "76795  PC71    76795  0.011711  weak\n",
      "76796  PC71    76796  0.011404  weak\n",
      "76797  PC38    76797 -0.011114  weak\n",
      "76798  PC38    76798 -0.010963  weak\n",
      "76799  PC11    76799 -0.010301  weak\n",
      "\n",
      "[76800 rows x 4 columns]\n"
     ]
    }
   ],
   "source": [
    "print(model.results['topfeat'])"
   ]
  },
  {
   "cell_type": "code",
   "execution_count": 15,
   "id": "c72d84d4",
   "metadata": {},
   "outputs": [],
   "source": [
    "(model.results['topfeat']).to_pickle('bloodcells_topfeatures.pkl')"
   ]
  },
  {
   "cell_type": "code",
   "execution_count": 19,
   "id": "c0a533d8",
   "metadata": {},
   "outputs": [
    {
     "data": {
      "text/html": [
       "<div>\n",
       "<style scoped>\n",
       "    .dataframe tbody tr th:only-of-type {\n",
       "        vertical-align: middle;\n",
       "    }\n",
       "\n",
       "    .dataframe tbody tr th {\n",
       "        vertical-align: top;\n",
       "    }\n",
       "\n",
       "    .dataframe thead th {\n",
       "        text-align: right;\n",
       "    }\n",
       "</style>\n",
       "<table border=\"1\" class=\"dataframe\">\n",
       "  <thead>\n",
       "    <tr style=\"text-align: right;\">\n",
       "      <th></th>\n",
       "      <th>PC</th>\n",
       "      <th>feature</th>\n",
       "      <th>loading</th>\n",
       "      <th>type</th>\n",
       "    </tr>\n",
       "  </thead>\n",
       "  <tbody>\n",
       "    <tr>\n",
       "      <th>0</th>\n",
       "      <td>PC1</td>\n",
       "      <td>37760</td>\n",
       "      <td>-0.012497</td>\n",
       "      <td>best</td>\n",
       "    </tr>\n",
       "    <tr>\n",
       "      <th>1</th>\n",
       "      <td>PC2</td>\n",
       "      <td>156</td>\n",
       "      <td>0.014437</td>\n",
       "      <td>best</td>\n",
       "    </tr>\n",
       "    <tr>\n",
       "      <th>2</th>\n",
       "      <td>PC3</td>\n",
       "      <td>258</td>\n",
       "      <td>0.012608</td>\n",
       "      <td>best</td>\n",
       "    </tr>\n",
       "    <tr>\n",
       "      <th>3</th>\n",
       "      <td>PC4</td>\n",
       "      <td>8930</td>\n",
       "      <td>0.012471</td>\n",
       "      <td>best</td>\n",
       "    </tr>\n",
       "    <tr>\n",
       "      <th>4</th>\n",
       "      <td>PC5</td>\n",
       "      <td>5524</td>\n",
       "      <td>-0.011482</td>\n",
       "      <td>best</td>\n",
       "    </tr>\n",
       "    <tr>\n",
       "      <th>...</th>\n",
       "      <td>...</td>\n",
       "      <td>...</td>\n",
       "      <td>...</td>\n",
       "      <td>...</td>\n",
       "    </tr>\n",
       "    <tr>\n",
       "      <th>76795</th>\n",
       "      <td>PC71</td>\n",
       "      <td>76795</td>\n",
       "      <td>0.011711</td>\n",
       "      <td>weak</td>\n",
       "    </tr>\n",
       "    <tr>\n",
       "      <th>76796</th>\n",
       "      <td>PC71</td>\n",
       "      <td>76796</td>\n",
       "      <td>0.011404</td>\n",
       "      <td>weak</td>\n",
       "    </tr>\n",
       "    <tr>\n",
       "      <th>76797</th>\n",
       "      <td>PC38</td>\n",
       "      <td>76797</td>\n",
       "      <td>-0.011114</td>\n",
       "      <td>weak</td>\n",
       "    </tr>\n",
       "    <tr>\n",
       "      <th>76798</th>\n",
       "      <td>PC38</td>\n",
       "      <td>76798</td>\n",
       "      <td>-0.010963</td>\n",
       "      <td>weak</td>\n",
       "    </tr>\n",
       "    <tr>\n",
       "      <th>76799</th>\n",
       "      <td>PC11</td>\n",
       "      <td>76799</td>\n",
       "      <td>-0.010301</td>\n",
       "      <td>weak</td>\n",
       "    </tr>\n",
       "  </tbody>\n",
       "</table>\n",
       "<p>76800 rows × 4 columns</p>\n",
       "</div>"
      ],
      "text/plain": [
       "         PC  feature   loading  type\n",
       "0       PC1    37760 -0.012497  best\n",
       "1       PC2      156  0.014437  best\n",
       "2       PC3      258  0.012608  best\n",
       "3       PC4     8930  0.012471  best\n",
       "4       PC5     5524 -0.011482  best\n",
       "...     ...      ...       ...   ...\n",
       "76795  PC71    76795  0.011711  weak\n",
       "76796  PC71    76796  0.011404  weak\n",
       "76797  PC38    76797 -0.011114  weak\n",
       "76798  PC38    76798 -0.010963  weak\n",
       "76799  PC11    76799 -0.010301  weak\n",
       "\n",
       "[76800 rows x 4 columns]"
      ]
     },
     "execution_count": 19,
     "metadata": {},
     "output_type": "execute_result"
    }
   ],
   "source": [
    "df_test = pd.read_pickle('bloodcells_topfeatures.pkl')\n",
    "df_test[df_test['type'] == 'best']"
   ]
  }
 ],
 "metadata": {
  "kernelspec": {
   "display_name": "Python 3 (ipykernel)",
   "language": "python",
   "name": "python3"
  },
  "language_info": {
   "codemirror_mode": {
    "name": "ipython",
    "version": 3
   },
   "file_extension": ".py",
   "mimetype": "text/x-python",
   "name": "python",
   "nbconvert_exporter": "python",
   "pygments_lexer": "ipython3",
   "version": "3.9.7"
  }
 },
 "nbformat": 4,
 "nbformat_minor": 5
}
