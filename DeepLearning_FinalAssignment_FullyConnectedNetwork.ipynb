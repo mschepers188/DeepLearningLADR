{
 "cells": [
  {
   "cell_type": "code",
   "execution_count": 1,
   "id": "f731aa2c",
   "metadata": {},
   "outputs": [],
   "source": [
    "from tensorflow import keras\n",
    "import matplotlib.pyplot as plt\n",
    "import numpy as np"
   ]
  },
  {
   "cell_type": "markdown",
   "id": "3549f8c7",
   "metadata": {},
   "source": [
    "## Data preparation"
   ]
  },
  {
   "cell_type": "markdown",
   "id": "ed63e5d9",
   "metadata": {},
   "source": [
    " As the Kaggle entry states, the folder 'dataset2-master' contains 2,500 augmented images with 4 additional subtype labels (JPEG + CSV)."
   ]
  },
  {
   "cell_type": "code",
   "execution_count": 3,
   "id": "af37a854",
   "metadata": {},
   "outputs": [
    {
     "name": "stdout",
     "output_type": "stream",
     "text": [
      "Found 9957 images belonging to 4 classes.\n",
      "Found 2487 images belonging to 4 classes.\n"
     ]
    }
   ],
   "source": [
    "# Make path variable and determine desired image dimensions\n",
    "# test_path = r'/homes/maschepers/Documents/Cell_data_DeepLearning/dataset2-master/dataset2-master/images/TEST/'\n",
    "# train_path = r'/homes/maschepers/Documents/Cell_data_DeepLearning/dataset2-master/dataset2-master/images/TRAIN/'\n",
    "\n",
    "test_path = r'C:\\\\Users\\\\Martin Schepers\\\\Documents\\\\dataset2-master\\\\dataset2-master\\\\images\\\\TEST\\\\'\n",
    "train_path = r'C:\\\\Users\\\\Martin Schepers\\\\Documents\\\\dataset2-master\\\\dataset2-master\\\\images\\\\TRAIN\\\\'\n",
    "\n",
    "train_data = keras.preprocessing.image.ImageDataGenerator(rescale=1/255)\n",
    "train_generator = train_data.flow_from_directory(\n",
    "    directory=train_path,\n",
    "    batch_size=20,\n",
    "    color_mode='rgb',\n",
    "    target_size=(120, 160),\n",
    "    class_mode='categorical'\n",
    ")\n",
    "\n",
    "test_data = keras.preprocessing.image.ImageDataGenerator(rescale=1/255)\n",
    "test_generator = test_data.flow_from_directory(\n",
    "    directory=test_path,\n",
    "    batch_size=20,\n",
    "    color_mode='rgb',\n",
    "    target_size=(120, 160),\n",
    "    class_mode='categorical'\n",
    ")"
   ]
  },
  {
   "cell_type": "code",
   "execution_count": 4,
   "id": "7021a237",
   "metadata": {},
   "outputs": [
    {
     "name": "stdout",
     "output_type": "stream",
     "text": [
      "(4980, 120, 160, 3) (4980, 4)\n",
      "(1240, 120, 160, 3) (1240, 4)\n"
     ]
    },
    {
     "data": {
      "text/plain": [
       "array([[0., 1., 0., 0.],\n",
       "       [0., 0., 1., 0.],\n",
       "       [0., 0., 1., 0.],\n",
       "       ...,\n",
       "       [0., 1., 0., 0.],\n",
       "       [0., 0., 0., 1.],\n",
       "       [0., 1., 0., 0.]], dtype=float32)"
      ]
     },
     "execution_count": 4,
     "metadata": {},
     "output_type": "execute_result"
    }
   ],
   "source": [
    "\n",
    "def get_data(generator, batch_size):\n",
    "    # Store the data in X, y variables by iterating over the batches\n",
    "    generator.reset()\n",
    "    X, y = next(generator)\n",
    "    for i in range(int(len(generator)/batch_size)-1): #1st batch is already fetched before the for loop.\n",
    "        img, label = next(generator)\n",
    "        X = np.append(X, img, axis=0 )\n",
    "        y = np.append(y, label, axis=0)\n",
    "    print(X.shape, y.shape)\n",
    "    return X, y\n",
    "\n",
    "# A subset of the data will be used as to not overload these models\n",
    "X_train, y_train = get_data(train_generator, 2)\n",
    "X_test, y_test = get_data(test_generator, 2)\n",
    "\n",
    "y_train"
   ]
  },
  {
   "cell_type": "markdown",
   "id": "265772fb",
   "metadata": {},
   "source": [
    "## Deep learning model creation"
   ]
  },
  {
   "cell_type": "code",
   "execution_count": 5,
   "id": "68bbb2d7",
   "metadata": {
    "scrolled": true
   },
   "outputs": [
    {
     "name": "stdout",
     "output_type": "stream",
     "text": [
      "Model: \"sequential\"\n",
      "_________________________________________________________________\n",
      " Layer (type)                Output Shape              Param #   \n",
      "=================================================================\n",
      " flatten (Flatten)           (None, 57600)             0         \n",
      "                                                                 \n",
      " Hidden_1 (Dense)            (None, 32)                1843232   \n",
      "                                                                 \n",
      " Hidden_2 (Dense)            (None, 64)                2112      \n",
      "                                                                 \n",
      " Hidden_3 (Dense)            (None, 128)               8320      \n",
      "                                                                 \n",
      " dropout (Dropout)           (None, 128)               0         \n",
      "                                                                 \n",
      " Output (Dense)              (None, 4)                 516       \n",
      "                                                                 \n",
      "=================================================================\n",
      "Total params: 1,854,180\n",
      "Trainable params: 1,854,180\n",
      "Non-trainable params: 0\n",
      "_________________________________________________________________\n"
     ]
    }
   ],
   "source": [
    "# create model\n",
    "neural = keras.models.Sequential()\n",
    "\n",
    "neural.add(keras.layers.InputLayer(input_shape=(120, 160, 3), name='Input'))\n",
    "neural.add(keras.layers.Flatten())\n",
    "neural.add(keras.layers.Dense(units=32, activation='LeakyReLU', name='Hidden_1'))\n",
    "neural.add(keras.layers.Dense(units=64, activation='LeakyReLU', name='Hidden_2'))\n",
    "# neural.add(keras.layers.Dropout(0.3))\n",
    "neural.add(keras.layers.Dense(units=128, activation='LeakyReLU', name='Hidden_3'))\n",
    "neural.add(keras.layers.Dropout(0.3))\n",
    "neural.add(keras.layers.Dense(units=4, activation='softmax', name='Output'))\n",
    "\n",
    "neural.summary()"
   ]
  },
  {
   "cell_type": "code",
   "execution_count": 6,
   "id": "2d8434c1",
   "metadata": {},
   "outputs": [],
   "source": [
    "neural.compile(\n",
    "    loss=keras.losses.CategoricalCrossentropy(),\n",
    "    optimizer=keras.optimizers.RMSprop(),  # learning_rate=1e-6\n",
    "    metrics=keras.metrics.CategoricalAccuracy()\n",
    ")"
   ]
  },
  {
   "cell_type": "code",
   "execution_count": 7,
   "id": "b323a148",
   "metadata": {},
   "outputs": [
    {
     "name": "stdout",
     "output_type": "stream",
     "text": [
      "Epoch 1/30\n",
      "20/20 [==============================] - 4s 84ms/step - loss: 25.5862 - categorical_accuracy: 0.2602 - val_loss: 2.1709 - val_categorical_accuracy: 0.2500\n",
      "Epoch 2/30\n",
      "20/20 [==============================] - 1s 56ms/step - loss: 7.0870 - categorical_accuracy: 0.2598 - val_loss: 5.0267 - val_categorical_accuracy: 0.2573\n",
      "Epoch 3/30\n",
      "20/20 [==============================] - 1s 57ms/step - loss: 5.0781 - categorical_accuracy: 0.2514 - val_loss: 2.3933 - val_categorical_accuracy: 0.2573\n",
      "Epoch 4/30\n",
      "20/20 [==============================] - 1s 56ms/step - loss: 5.5628 - categorical_accuracy: 0.2510 - val_loss: 4.3656 - val_categorical_accuracy: 0.2516\n",
      "Epoch 5/30\n",
      "20/20 [==============================] - 1s 59ms/step - loss: 4.5188 - categorical_accuracy: 0.2560 - val_loss: 13.3135 - val_categorical_accuracy: 0.2403\n",
      "Epoch 6/30\n",
      "20/20 [==============================] - 1s 58ms/step - loss: 4.1144 - categorical_accuracy: 0.2446 - val_loss: 2.0244 - val_categorical_accuracy: 0.2500\n",
      "Epoch 7/30\n",
      "20/20 [==============================] - 1s 56ms/step - loss: 3.8137 - categorical_accuracy: 0.2546 - val_loss: 2.6294 - val_categorical_accuracy: 0.2452\n",
      "Epoch 8/30\n",
      "20/20 [==============================] - 1s 57ms/step - loss: 2.5406 - categorical_accuracy: 0.2582 - val_loss: 5.7983 - val_categorical_accuracy: 0.2403\n",
      "Epoch 9/30\n",
      "20/20 [==============================] - 1s 56ms/step - loss: 3.2037 - categorical_accuracy: 0.2500 - val_loss: 2.5916 - val_categorical_accuracy: 0.2524\n",
      "Epoch 10/30\n",
      "20/20 [==============================] - 1s 59ms/step - loss: 3.6910 - categorical_accuracy: 0.2504 - val_loss: 1.4216 - val_categorical_accuracy: 0.2540\n",
      "Epoch 11/30\n",
      "20/20 [==============================] - 1s 55ms/step - loss: 3.2074 - categorical_accuracy: 0.2438 - val_loss: 3.6731 - val_categorical_accuracy: 0.2500\n",
      "Epoch 12/30\n",
      "20/20 [==============================] - 1s 56ms/step - loss: 2.0220 - categorical_accuracy: 0.2520 - val_loss: 1.4049 - val_categorical_accuracy: 0.2573\n",
      "Epoch 13/30\n",
      "20/20 [==============================] - 1s 54ms/step - loss: 3.0140 - categorical_accuracy: 0.2580 - val_loss: 1.7820 - val_categorical_accuracy: 0.2403\n",
      "Epoch 14/30\n",
      "20/20 [==============================] - 1s 59ms/step - loss: 2.5277 - categorical_accuracy: 0.2458 - val_loss: 2.7061 - val_categorical_accuracy: 0.2524\n",
      "Epoch 15/30\n",
      "20/20 [==============================] - 1s 59ms/step - loss: 2.0105 - categorical_accuracy: 0.2408 - val_loss: 2.0035 - val_categorical_accuracy: 0.2718\n",
      "Epoch 16/30\n",
      "20/20 [==============================] - 1s 57ms/step - loss: 2.2817 - categorical_accuracy: 0.2578 - val_loss: 1.5272 - val_categorical_accuracy: 0.2556\n",
      "Epoch 17/30\n",
      "20/20 [==============================] - 1s 59ms/step - loss: 2.2832 - categorical_accuracy: 0.2494 - val_loss: 1.5877 - val_categorical_accuracy: 0.2524\n",
      "Epoch 18/30\n",
      "20/20 [==============================] - 1s 56ms/step - loss: 3.0088 - categorical_accuracy: 0.2460 - val_loss: 1.3956 - val_categorical_accuracy: 0.2516\n",
      "Epoch 19/30\n",
      "20/20 [==============================] - 1s 59ms/step - loss: 1.6241 - categorical_accuracy: 0.2376 - val_loss: 2.4510 - val_categorical_accuracy: 0.2403\n",
      "Epoch 20/30\n",
      "20/20 [==============================] - 1s 58ms/step - loss: 2.2112 - categorical_accuracy: 0.2428 - val_loss: 1.5099 - val_categorical_accuracy: 0.2403\n",
      "Epoch 21/30\n",
      "20/20 [==============================] - 1s 58ms/step - loss: 3.9165 - categorical_accuracy: 0.2422 - val_loss: 1.4162 - val_categorical_accuracy: 0.2403\n",
      "Epoch 22/30\n",
      "20/20 [==============================] - 1s 58ms/step - loss: 1.6093 - categorical_accuracy: 0.2564 - val_loss: 1.4058 - val_categorical_accuracy: 0.2621\n",
      "Epoch 23/30\n",
      "20/20 [==============================] - 1s 58ms/step - loss: 2.4580 - categorical_accuracy: 0.2546 - val_loss: 1.5396 - val_categorical_accuracy: 0.2573\n",
      "Epoch 24/30\n",
      "20/20 [==============================] - 1s 54ms/step - loss: 1.7130 - categorical_accuracy: 0.2472 - val_loss: 5.3331 - val_categorical_accuracy: 0.2573\n",
      "Epoch 25/30\n",
      "20/20 [==============================] - 1s 59ms/step - loss: 2.6505 - categorical_accuracy: 0.2504 - val_loss: 1.3862 - val_categorical_accuracy: 0.2524\n",
      "Epoch 26/30\n",
      "20/20 [==============================] - 1s 57ms/step - loss: 2.4689 - categorical_accuracy: 0.2602 - val_loss: 1.4294 - val_categorical_accuracy: 0.2500\n",
      "Epoch 27/30\n",
      "20/20 [==============================] - 1s 59ms/step - loss: 1.6406 - categorical_accuracy: 0.2468 - val_loss: 1.5726 - val_categorical_accuracy: 0.2403\n",
      "Epoch 28/30\n",
      "20/20 [==============================] - 1s 56ms/step - loss: 2.1241 - categorical_accuracy: 0.2464 - val_loss: 1.7875 - val_categorical_accuracy: 0.2548\n",
      "Epoch 29/30\n",
      "20/20 [==============================] - 1s 56ms/step - loss: 1.7755 - categorical_accuracy: 0.2496 - val_loss: 1.4046 - val_categorical_accuracy: 0.2500\n",
      "Epoch 30/30\n",
      "20/20 [==============================] - 1s 53ms/step - loss: 2.1914 - categorical_accuracy: 0.2566 - val_loss: 1.4071 - val_categorical_accuracy: 0.2363\n"
     ]
    },
    {
     "data": {
      "text/plain": [
       "dict_keys(['loss', 'categorical_accuracy', 'val_loss', 'val_categorical_accuracy'])"
      ]
     },
     "execution_count": 7,
     "metadata": {},
     "output_type": "execute_result"
    }
   ],
   "source": [
    "history = neural.fit(\n",
    "    x=X_train,\n",
    "    y=y_train,\n",
    "    epochs=30,\n",
    "    batch_size=250,\n",
    "    verbose=1,\n",
    "    validation_data=(X_test, y_test)  # np.random.shuffle(y_test)\n",
    ")\n",
    "\n",
    "history.history.keys()"
   ]
  },
  {
   "cell_type": "code",
   "execution_count": 8,
   "id": "06005e40",
   "metadata": {},
   "outputs": [
    {
     "data": {
      "image/png": "[encoded data removed]",
      "text/plain": [
       "<Figure size 432x288 with 1 Axes>"
      ]
     },
     "metadata": {
      "needs_background": "light"
     },
     "output_type": "display_data"
    }
   ],
   "source": [
    "plt.plot(history.history['loss'], 'go', label='Training loss')\n",
    "plt.plot(history.history['val_loss'], 'g-', label='Validation loss')\n",
    "plt.xlabel('Epochs')\n",
    "plt.ylabel('Loss')\n",
    "plt.legend()\n",
    "plt.show()"
   ]
  },
  {
   "cell_type": "code",
   "execution_count": 9,
   "id": "f4159020",
   "metadata": {},
   "outputs": [
    {
     "data": {
      "image/png": "[encoded data removed]",
      "text/plain": [
       "<Figure size 432x288 with 1 Axes>"
      ]
     },
     "metadata": {
      "needs_background": "light"
     },
     "output_type": "display_data"
    }
   ],
   "source": [
    "plt.plot(history.history['categorical_accuracy'], 'go', label='Categorical accuracy')\n",
    "plt.plot(history.history['val_categorical_accuracy'], 'g-', label='Validation categorical accuracy')\n",
    "plt.xlabel('Epochs')\n",
    "plt.ylabel('Accuracy')\n",
    "plt.legend()\n",
    "plt.show()"
   ]
  },
  {
   "cell_type": "code",
   "execution_count": null,
   "id": "fdeedc2e",
   "metadata": {},
   "outputs": [],
   "source": []
  }
 ],
 "metadata": {
  "kernelspec": {
   "display_name": "Python 3 (ipykernel)",
   "language": "python",
   "name": "python3"
  },
  "language_info": {
   "codemirror_mode": {
    "name": "ipython",
    "version": 3
   },
   "file_extension": ".py",
   "mimetype": "text/x-python",
   "name": "python",
   "nbconvert_exporter": "python",
   "pygments_lexer": "ipython3",
   "version": "3.9.7"
  }
 },
 "nbformat": 4,
 "nbformat_minor": 5
}
