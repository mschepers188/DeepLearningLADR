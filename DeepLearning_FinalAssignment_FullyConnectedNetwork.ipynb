{
 "cells": [
  {
   "cell_type": "code",
   "execution_count": 1,
   "id": "f731aa2c",
   "metadata": {},
   "outputs": [
    {
     "name": "stderr",
     "output_type": "stream",
     "text": [
      "2022-06-21 15:20:56.701864: W tensorflow/stream_executor/platform/default/dso_loader.cc:64] Could not load dynamic library 'libcudart.so.11.0'; dlerror: libcudart.so.11.0: cannot open shared object file: No such file or directory\n",
      "2022-06-21 15:20:56.701932: I tensorflow/stream_executor/cuda/cudart_stub.cc:29] Ignore above cudart dlerror if you do not have a GPU set up on your machine.\n"
     ]
    }
   ],
   "source": [
    "from tensorflow import keras\n",
    "import matplotlib.pyplot as plt\n",
    "import numpy as np"
   ]
  },
  {
   "cell_type": "markdown",
   "id": "3549f8c7",
   "metadata": {},
   "source": [
    "## Data preparation"
   ]
  },
  {
   "cell_type": "markdown",
   "id": "ed63e5d9",
   "metadata": {},
   "source": [
    " As the Kaggle entry states, the folder 'dataset2-master' contains 2,500 augmented images with 4 additional subtype labels (JPEG + CSV)."
   ]
  },
  {
   "cell_type": "code",
   "execution_count": 2,
   "id": "af37a854",
   "metadata": {},
   "outputs": [
    {
     "name": "stdout",
     "output_type": "stream",
     "text": [
      "Found 9957 images belonging to 4 classes.\n",
      "Found 2487 images belonging to 4 classes.\n"
     ]
    }
   ],
   "source": [
    "# Make path variable and determine desired image dimensions\n",
    "test_path = r'/homes/maschepers/Documents/Cell_data_DeepLearning/dataset2-master/dataset2-master/images/TEST/'\n",
    "train_path = r'/homes/maschepers/Documents/Cell_data_DeepLearning/dataset2-master/dataset2-master/images/TRAIN/'\n",
    "\n",
    "train_data = keras.preprocessing.image.ImageDataGenerator(rescale=1/255)\n",
    "train_generator = train_data.flow_from_directory(\n",
    "    directory=train_path,\n",
    "    batch_size=20,\n",
    "    color_mode='rgb',\n",
    "    target_size=(120, 160),\n",
    "    class_mode='categorical'\n",
    ")\n",
    "\n",
    "test_data = keras.preprocessing.image.ImageDataGenerator(rescale=1/255)\n",
    "test_generator = test_data.flow_from_directory(\n",
    "    directory=test_path,\n",
    "    batch_size=20,\n",
    "    color_mode='rgb',\n",
    "    target_size=(120, 160),\n",
    "    class_mode='categorical'\n",
    ")"
   ]
  },
  {
   "cell_type": "code",
   "execution_count": 3,
   "id": "7021a237",
   "metadata": {},
   "outputs": [
    {
     "name": "stdout",
     "output_type": "stream",
     "text": [
      "(4980, 120, 160, 3) (4980, 4)\n",
      "(1240, 120, 160, 3) (1240, 4)\n"
     ]
    },
    {
     "data": {
      "text/plain": [
       "array([[1., 0., 0., 0.],\n",
       "       [1., 0., 0., 0.],\n",
       "       [0., 1., 0., 0.],\n",
       "       ...,\n",
       "       [0., 0., 1., 0.],\n",
       "       [0., 0., 1., 0.],\n",
       "       [0., 0., 1., 0.]], dtype=float32)"
      ]
     },
     "execution_count": 3,
     "metadata": {},
     "output_type": "execute_result"
    }
   ],
   "source": [
    "\n",
    "def get_data(generator, batch_size):\n",
    "    # Store the data in X, y variables by iterating over the batches\n",
    "    generator.reset()\n",
    "    X, y = next(generator)\n",
    "    for i in range(int(len(generator)/batch_size)-1): #1st batch is already fetched before the for loop.\n",
    "        img, label = next(generator)\n",
    "        X = np.append(X, img, axis=0 )\n",
    "        y = np.append(y, label, axis=0)\n",
    "    print(X.shape, y.shape)\n",
    "    return X, y\n",
    "\n",
    "# A subset of the data will be used as to not overload these models\n",
    "X_train, y_train = get_data(train_generator, 2)\n",
    "X_test, y_test = get_data(test_generator, 2)\n",
    "\n",
    "y_train"
   ]
  },
  {
   "cell_type": "markdown",
   "id": "265772fb",
   "metadata": {},
   "source": [
    "## Deep learning model creation"
   ]
  },
  {
   "cell_type": "code",
   "execution_count": 18,
   "id": "68bbb2d7",
   "metadata": {
    "scrolled": true
   },
   "outputs": [
    {
     "name": "stdout",
     "output_type": "stream",
     "text": [
      "Model: \"sequential_4\"\n",
      "_________________________________________________________________\n",
      " Layer (type)                Output Shape              Param #   \n",
      "=================================================================\n",
      " flatten_4 (Flatten)         (None, 57600)             0         \n",
      "                                                                 \n",
      " Hidden_1 (Dense)            (None, 128)               7372928   \n",
      "                                                                 \n",
      " Hidden_2 (Dense)            (None, 64)                8256      \n",
      "                                                                 \n",
      " Hidden_3 (Dense)            (None, 32)                2080      \n",
      "                                                                 \n",
      " dropout_3 (Dropout)         (None, 32)                0         \n",
      "                                                                 \n",
      " Output (Dense)              (None, 4)                 132       \n",
      "                                                                 \n",
      "=================================================================\n",
      "Total params: 7,383,396\n",
      "Trainable params: 7,383,396\n",
      "Non-trainable params: 0\n",
      "_________________________________________________________________\n"
     ]
    }
   ],
   "source": [
    "# create model\n",
    "neural = keras.models.Sequential()\n",
    "\n",
    "neural.add(keras.layers.InputLayer(input_shape=(120, 160, 3), name='Input'))\n",
    "neural.add(keras.layers.Flatten())\n",
    "neural.add(keras.layers.Dense(units=128, activation='LeakyReLU', name='Hidden_1'))\n",
    "neural.add(keras.layers.Dense(units=64, activation='LeakyReLU', name='Hidden_2'))\n",
    "# neural.add(keras.layers.Dropout(0.3))\n",
    "neural.add(keras.layers.Dense(units=32, activation='LeakyReLU', name='Hidden_3'))\n",
    "neural.add(keras.layers.Dropout(0.3))\n",
    "neural.add(keras.layers.Dense(units=4, activation='softmax', name='Output'))\n",
    "\n",
    "neural.summary()"
   ]
  },
  {
   "cell_type": "code",
   "execution_count": 19,
   "id": "2d8434c1",
   "metadata": {},
   "outputs": [],
   "source": [
    "neural.compile(\n",
    "    loss=keras.losses.CategoricalCrossentropy(),\n",
    "    optimizer=keras.optimizers.Adam(),  # learning_rate=1e-6\n",
    "    metrics=keras.metrics.CategoricalAccuracy()\n",
    ")"
   ]
  },
  {
   "cell_type": "code",
   "execution_count": 20,
   "id": "b323a148",
   "metadata": {},
   "outputs": [
    {
     "name": "stdout",
     "output_type": "stream",
     "text": [
      "Epoch 1/30\n"
     ]
    },
    {
     "name": "stderr",
     "output_type": "stream",
     "text": [
      "2022-06-21 15:29:16.849745: W tensorflow/core/framework/cpu_allocator_impl.cc:82] Allocation of 1147392000 exceeds 10% of free system memory.\n"
     ]
    },
    {
     "name": "stdout",
     "output_type": "stream",
     "text": [
      "20/20 [==============================] - 2s 102ms/step - loss: 25.2836 - categorical_accuracy: 0.2532 - val_loss: 2.2128 - val_categorical_accuracy: 0.2460\n",
      "Epoch 2/30\n",
      "20/20 [==============================] - 2s 91ms/step - loss: 6.7497 - categorical_accuracy: 0.2472 - val_loss: 1.8852 - val_categorical_accuracy: 0.2589\n",
      "Epoch 3/30\n",
      "20/20 [==============================] - 2s 92ms/step - loss: 3.8182 - categorical_accuracy: 0.2494 - val_loss: 2.1975 - val_categorical_accuracy: 0.2532\n",
      "Epoch 4/30\n",
      "20/20 [==============================] - 2s 89ms/step - loss: 2.3050 - categorical_accuracy: 0.2578 - val_loss: 2.5041 - val_categorical_accuracy: 0.2540\n",
      "Epoch 5/30\n",
      "20/20 [==============================] - 2s 88ms/step - loss: 2.1873 - categorical_accuracy: 0.2562 - val_loss: 1.6653 - val_categorical_accuracy: 0.2379\n",
      "Epoch 6/30\n",
      "20/20 [==============================] - 2s 88ms/step - loss: 2.3376 - categorical_accuracy: 0.2516 - val_loss: 1.4475 - val_categorical_accuracy: 0.2524\n",
      "Epoch 7/30\n",
      "20/20 [==============================] - 2s 90ms/step - loss: 1.9761 - categorical_accuracy: 0.2681 - val_loss: 2.2112 - val_categorical_accuracy: 0.2532\n",
      "Epoch 8/30\n",
      "20/20 [==============================] - 2s 89ms/step - loss: 3.1377 - categorical_accuracy: 0.2582 - val_loss: 1.8236 - val_categorical_accuracy: 0.2460\n",
      "Epoch 9/30\n",
      "20/20 [==============================] - 2s 88ms/step - loss: 2.5105 - categorical_accuracy: 0.2677 - val_loss: 1.6169 - val_categorical_accuracy: 0.2427\n",
      "Epoch 10/30\n",
      "20/20 [==============================] - 2s 88ms/step - loss: 2.2036 - categorical_accuracy: 0.2647 - val_loss: 1.5419 - val_categorical_accuracy: 0.2556\n",
      "Epoch 11/30\n",
      "20/20 [==============================] - 2s 88ms/step - loss: 1.8049 - categorical_accuracy: 0.2705 - val_loss: 1.5472 - val_categorical_accuracy: 0.2581\n",
      "Epoch 12/30\n",
      "20/20 [==============================] - 2s 90ms/step - loss: 2.1719 - categorical_accuracy: 0.2665 - val_loss: 2.2644 - val_categorical_accuracy: 0.2532\n",
      "Epoch 13/30\n",
      "20/20 [==============================] - 2s 87ms/step - loss: 2.3224 - categorical_accuracy: 0.2771 - val_loss: 1.5196 - val_categorical_accuracy: 0.2452\n",
      "Epoch 14/30\n",
      "20/20 [==============================] - 2s 92ms/step - loss: 1.7593 - categorical_accuracy: 0.2817 - val_loss: 1.4612 - val_categorical_accuracy: 0.2565\n",
      "Epoch 15/30\n",
      "20/20 [==============================] - 2s 89ms/step - loss: 1.8979 - categorical_accuracy: 0.2717 - val_loss: 1.7021 - val_categorical_accuracy: 0.2460\n",
      "Epoch 16/30\n",
      "20/20 [==============================] - 2s 89ms/step - loss: 2.2626 - categorical_accuracy: 0.2743 - val_loss: 2.1029 - val_categorical_accuracy: 0.2419\n",
      "Epoch 17/30\n",
      "20/20 [==============================] - 2s 88ms/step - loss: 2.2447 - categorical_accuracy: 0.2719 - val_loss: 1.4892 - val_categorical_accuracy: 0.2508\n",
      "Epoch 18/30\n",
      "20/20 [==============================] - 2s 91ms/step - loss: 1.9238 - categorical_accuracy: 0.2763 - val_loss: 1.4530 - val_categorical_accuracy: 0.2597\n",
      "Epoch 19/30\n",
      "20/20 [==============================] - 2s 88ms/step - loss: 1.7054 - categorical_accuracy: 0.2898 - val_loss: 1.4529 - val_categorical_accuracy: 0.2589\n",
      "Epoch 20/30\n",
      "20/20 [==============================] - 2s 90ms/step - loss: 2.3117 - categorical_accuracy: 0.2737 - val_loss: 1.4330 - val_categorical_accuracy: 0.2468\n",
      "Epoch 21/30\n",
      "20/20 [==============================] - 2s 88ms/step - loss: 1.6489 - categorical_accuracy: 0.2908 - val_loss: 1.5241 - val_categorical_accuracy: 0.2556\n",
      "Epoch 22/30\n",
      "20/20 [==============================] - 2s 90ms/step - loss: 1.7430 - categorical_accuracy: 0.2942 - val_loss: 1.7502 - val_categorical_accuracy: 0.2484\n",
      "Epoch 23/30\n",
      "20/20 [==============================] - 2s 90ms/step - loss: 1.7310 - categorical_accuracy: 0.2847 - val_loss: 1.5783 - val_categorical_accuracy: 0.2621\n",
      "Epoch 24/30\n",
      "20/20 [==============================] - 2s 89ms/step - loss: 1.6034 - categorical_accuracy: 0.2942 - val_loss: 1.4072 - val_categorical_accuracy: 0.2694\n",
      "Epoch 25/30\n",
      "20/20 [==============================] - 2s 89ms/step - loss: 1.5641 - categorical_accuracy: 0.3070 - val_loss: 1.5684 - val_categorical_accuracy: 0.2573\n",
      "Epoch 26/30\n",
      "20/20 [==============================] - 2s 89ms/step - loss: 1.4276 - categorical_accuracy: 0.3259 - val_loss: 1.5113 - val_categorical_accuracy: 0.2621\n",
      "Epoch 27/30\n",
      "20/20 [==============================] - 2s 88ms/step - loss: 1.4676 - categorical_accuracy: 0.3141 - val_loss: 1.4372 - val_categorical_accuracy: 0.2621\n",
      "Epoch 28/30\n",
      "20/20 [==============================] - 2s 88ms/step - loss: 1.7069 - categorical_accuracy: 0.3066 - val_loss: 1.6103 - val_categorical_accuracy: 0.2484\n",
      "Epoch 29/30\n",
      "20/20 [==============================] - 2s 90ms/step - loss: 2.2291 - categorical_accuracy: 0.2890 - val_loss: 1.6262 - val_categorical_accuracy: 0.2556\n",
      "Epoch 30/30\n",
      "20/20 [==============================] - 2s 87ms/step - loss: 1.8842 - categorical_accuracy: 0.2884 - val_loss: 1.6278 - val_categorical_accuracy: 0.2452\n"
     ]
    },
    {
     "data": {
      "text/plain": [
       "dict_keys(['loss', 'categorical_accuracy', 'val_loss', 'val_categorical_accuracy'])"
      ]
     },
     "execution_count": 20,
     "metadata": {},
     "output_type": "execute_result"
    }
   ],
   "source": [
    "history = neural.fit(\n",
    "    x=X_train,\n",
    "    y=y_train,\n",
    "    epochs=30,\n",
    "    batch_size=250,\n",
    "    verbose=1,\n",
    "    validation_data=(X_test, y_test)  # np.random.shuffle(y_test)\n",
    ")\n",
    "\n",
    "history.history.keys()"
   ]
  },
  {
   "cell_type": "code",
   "execution_count": 23,
   "id": "06005e40",
   "metadata": {},
   "outputs": [
    {
     "data": {
      "image/png": "[encoded data removed]",
      "text/plain": [
       "<Figure size 432x288 with 1 Axes>"
      ]
     },
     "metadata": {
      "needs_background": "light"
     },
     "output_type": "display_data"
    }
   ],
   "source": [
    "plt.plot(history.history['loss'], 'go', label='Training loss')\n",
    "plt.plot(history.history['val_loss'], 'g-', label='Validation loss')\n",
    "plt.xlabel('Epochs')\n",
    "plt.ylabel('Loss')\n",
    "plt.legend()\n",
    "plt.show()"
   ]
  },
  {
   "cell_type": "code",
   "execution_count": 24,
   "id": "f4159020",
   "metadata": {},
   "outputs": [
    {
     "data": {
      "image/png": "[encoded data removed]",
      "text/plain": [
       "<Figure size 432x288 with 1 Axes>"
      ]
     },
     "metadata": {
      "needs_background": "light"
     },
     "output_type": "display_data"
    }
   ],
   "source": [
    "plt.plot(history.history['categorical_accuracy'], 'go', label='Categorical accuracy')\n",
    "plt.plot(history.history['val_categorical_accuracy'], 'g-', label='Validation categorical accuracy')\n",
    "plt.xlabel('Epochs')\n",
    "plt.ylabel('Accuracy')\n",
    "plt.legend()\n",
    "plt.show()"
   ]
  },
  {
   "cell_type": "code",
   "execution_count": null,
   "id": "fdeedc2e",
   "metadata": {},
   "outputs": [],
   "source": []
  }
 ],
 "metadata": {
  "kernelspec": {
   "display_name": "Python 3 (ipykernel)",
   "language": "python",
   "name": "python3"
  },
  "language_info": {
   "codemirror_mode": {
    "name": "ipython",
    "version": 3
   },
   "file_extension": ".py",
   "mimetype": "text/x-python",
   "name": "python",
   "nbconvert_exporter": "python",
   "pygments_lexer": "ipython3",
   "version": "3.8.12"
  }
 },
 "nbformat": 4,
 "nbformat_minor": 5
}
